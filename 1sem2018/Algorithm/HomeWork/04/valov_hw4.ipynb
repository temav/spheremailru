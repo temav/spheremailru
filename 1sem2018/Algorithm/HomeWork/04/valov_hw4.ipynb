{
 "cells": [
  {
   "cell_type": "markdown",
   "metadata": {},
   "source": [
    "# Алгоритмы интеллектуальной обработки больших объемов данных\n",
    "## Домашнее задание №4 - Метод k-средних, предобработка признаков\n"
   ]
  },
  {
   "cell_type": "markdown",
   "metadata": {},
   "source": [
    "###### <hr\\>\n",
    "**Общая информация**\n",
    "\n",
    "**Срок сдачи:** 28 ноября 2018, 06:00 <br\\>\n",
    "**Штраф за опоздание:** -2 балла после 06:00 28 ноября, -4 балла после 06:00 5 декабря, -6 баллов после 06:00 12 декабря, -8 баллов после 19 декабря\n",
    "\n",
    "При отправлении ДЗ указывайте фамилию в названии файла\n",
    "Присылать ДЗ необходимо в виде ссылки на свой github репозиторий в slack @alkhamush\n",
    "\n",
    "Необходимо в slack создать таск в приватный чат:\n",
    "/todo Фамилия Имя ссылка на гитхаб @alkhamush\n",
    "Пример:\n",
    "/todo Ксения Стройкова https://github.com/stroykova/spheremailru/stroykova_hw1.ipynb @alkhamush\n",
    "Дополнительно нужно просто скинуть ссылку в slack в личный чат\n",
    "\n",
    "Используйте данный Ipython Notebook при оформлении домашнего задания."
   ]
  },
  {
   "cell_type": "markdown",
   "metadata": {},
   "source": [
    "# Имплементация K-means\n",
    "\n",
    "Пользуясь наработками выше, имплементируйте метод k-means.  \n",
    "При инициализации необходимо задавать количество кластеров, функцию расстояния между кластерами (для оригинального k-means - евклидово расстояние) и начальное состояние генератора случайных чисел.\n",
    "\n",
    "После обучения, среди атрибутов класса `Kmeans` должны появится\n",
    "* Метки кластеров для объектов\n",
    "* Координаты центройдов кластеров\n",
    "\n",
    "k-means - это алгоритм **кластеризации**, а не классификации, а посему метод `.predict()` в нем фактически не нужен, но он может возвращать метки ближайшего кластера для объектов."
   ]
  },
  {
   "cell_type": "markdown",
   "metadata": {},
   "source": [
    "###### Задание 1 (2 баллов)\n",
    "Имплементируйте метод k-means. Задание считается выполненным, если Ваша реализация работает быстрее реализации из sklearn.\n",
    "\n",
    "Теория для выполнения задания 2 и 3 остаётся на самостоятельное изучение. Теории немного и она совсем простая.\n",
    "\n",
    "###### Задание 2 (2 балла)\n",
    "Имплементируйте класс MiniBatchKMeans, который является классом наследником Kmeans.\n",
    "\n",
    "###### Задание 3 (2 балла)\n",
    "Превратите k-means в k-means++. Для этого нужно реализовать метод в классе Kmeans, который будет инициализировать более \"хорошие\" значения центроидов. Чтобы использовался метод k-means++, в параметр init необходимо передать строковое значение 'k-means' (по умолчанию 'random').\n",
    "\n",
    "###### Задание 4 (2 балла)\n",
    "В пункте \"Проверка корректности метода\" нужно нарисовать графики, которые показывают зависимость времени выполнения алгоритма от количества сэмплов. Графики должны быть  нарисованы для различных комбинаций реализаций алгоритма (k-means, k-means++, k-means с MiniBatchKMeans, k-means++ с MiniBatchKMeans). График достаточно построить на 5-10 точках.\n",
    "\n",
    "###### Задание 5 (2 балла)\n",
    "В пункте \"Применение K-means на реальных данных\" нужно сравнить различные реализации k-means (k-means, k-means++, k-means с MiniBatchKMeans, k-means++ с MiniBatchKMeans). После чего написать вывод, в котором должно быть объяснение того, почему один алгоритм оказался лучше остальных или почему не было выявлено лучшего алгоритма.\n",
    "\n",
    "**Штрафные баллы:**\n",
    "\n",
    "1. Невыполнение PEP8 -1 балл\n",
    "2. Отсутствие фамилии в имени скрипта (скрипт должен называться по аналогии со stroykova_hw4.ipynb) -1 балл\n",
    "3. Все строчки должны быть выполнены. Нужно, чтобы output команды можно было увидеть уже в git'е. В противном случае -1 балл\n",
    "4. При оформлении ДЗ нужно пользоваться данным файлом в качестве шаблона. Не нужно удалять и видоизменять написанный код и текст. В противном случае -1 балл\n",
    "<hr\\>"
   ]
  },
  {
   "cell_type": "code",
   "execution_count": 1,
   "metadata": {},
   "outputs": [],
   "source": [
    "import pandas as pd\n",
    "import numpy as np\n",
    "import matplotlib.pyplot as plt\n",
    "import random\n",
    "\n",
    "from  more_itertools import unique_everseen\n",
    "from sklearn.cluster import KMeans\n",
    "from sklearn.metrics import accuracy_score\n",
    "from sklearn.metrics.pairwise import pairwise_distances\n",
    "%matplotlib inline\n",
    "\n",
    "plt.style.use('ggplot')\n",
    "plt.rcParams['figure.figsize'] = (12,5)\n",
    "\n",
    "%load_ext pycodestyle_magic"
   ]
  },
  {
   "cell_type": "code",
   "execution_count": 2,
   "metadata": {},
   "outputs": [],
   "source": [
    "#%%pycodestyle\n",
    "\n",
    "\n",
    "class MyKmeans:\n",
    "\n",
    "    def __init__(self, k=2, metric='euclidean',\n",
    "                 max_iter=1000, random_state=None, init='random'):\n",
    "        \"\"\"\n",
    "        Инициализация метода\n",
    "        :k - количество кластеров\n",
    "        :metric - функция расстояния между объектами\n",
    "        :max_iter - максиальное количество итераций\n",
    "        :random_state - seed для инициализации генератора случайных чисел\n",
    "        \"\"\"\n",
    "\n",
    "        self.k = k\n",
    "        self.random_state = random_state\n",
    "        self.metric = metric\n",
    "        self.max_iter = max_iter\n",
    "        self.init = init\n",
    "\n",
    "    def fit(self, X, y=None):\n",
    "        \"\"\"\n",
    "        Процедура обучения k-means\n",
    "        \"\"\"\n",
    "        self.X = X\n",
    "        # Инициализация генератора случайных чисел\n",
    "        np.random.seed(self.random_state)\n",
    "        # Массив с метками кластеров для каждого объекта из X\n",
    "        self.labels = np.empty(self.X.shape[0])\n",
    "        # Массив с центройдами кластеров\n",
    "        self.centroids = np.empty((self.k, self.X.shape[1]))\n",
    "        # Your Code Here\n",
    "        # ...\n",
    "        if self.init == 'random':\n",
    "            initial = np.random.randint(0, self.X.shape[0], self.k)\n",
    "            self.centroids = self.X[initial]\n",
    "        if self.init == 'kek':\n",
    "            initial = np.mean(self.X, axis=0)\n",
    "            self.centroids = initial + np.random.sample((self.k,\n",
    "                                                         self.X.shape[1]))\n",
    "        if self.init == 'k-means':\n",
    "            self.centroids[0] = self.X[np.random.randint(0, self.X.shape[0])]\n",
    "            for i in range(1, self.k):\n",
    "                min_dist = np.min(pairwise_distances(self.X,\n",
    "                                                     self.centroids[:i],\n",
    "                                                     self.metric), axis=1) ** 2\n",
    "                distribution = min_dist / np.sum(min_dist)\n",
    "                self.centroids[i] = self.X[np.random.choice(\n",
    "                    range(X.shape[0]), p=distribution)]\n",
    "        flag, steps = 1, 1\n",
    "        while(steps <= self.max_iter):\n",
    "            prev_centr = np.array(self.centroids)\n",
    "            self.labels = self.set_labels(self.X, self.centroids, self.metric)\n",
    "            self.set_centroids(self.centroids, self.X, self.labels)\n",
    "            if(np.all(prev_centr == self.centroids)):\n",
    "                break\n",
    "            steps += 1\n",
    "        return self\n",
    "\n",
    "    def set_labels(self, A, B, C):\n",
    "        dist = pairwise_distances(A, B, metric=C)\n",
    "        return np.argmin(dist, axis=1)\n",
    "\n",
    "    def set_centroids(self, centr, data, label):\n",
    "        for i in range(0, len(centr)):\n",
    "            ind = (np.where(label == i)[0]).tolist()\n",
    "            if(len(ind) != 0):\n",
    "                centr[i] = np.mean(data[ind], axis=0)\n",
    "\n",
    "    def predict(self, X, y=None):\n",
    "        \"\"\"\n",
    "        Процедура предсказания кластера\n",
    "        Возвращает метку ближайшего кластера для каждого объекта\n",
    "        \"\"\"\n",
    "        count = 0\n",
    "        label_temp = np.zeros(len(self.labels))\n",
    "        label_unic = np.array(list(unique_everseen(self.labels)), dtype=int)\n",
    "        for i in label_unic:\n",
    "            array = np.where(self.labels == i)\n",
    "            for k in array[0]:\n",
    "                label_temp[k] = count\n",
    "            count += 1\n",
    "        return label_temp\n",
    "\n",
    "    def score(self, X, y):\n",
    "        return accuracy_score(y, self.predict(X))\n",
    "\n",
    "\n",
    "class MiniBatchKMeans(MyKmeans):\n",
    "\n",
    "    def __init__(self, k=2, metric='euclidean', batch_size=100,\n",
    "                 max_iter=1000, random_state=None, init='random'):\n",
    "        super(MiniBatchKMeans, self).__init__(\n",
    "            k, metric, max_iter, random_state, init)\n",
    "        self.batch_size = batch_size\n",
    "\n",
    "    def fit(self, X, y=None):\n",
    "        self.X = X\n",
    "        self.labels = np.empty(self.X.shape[0])\n",
    "        self.centroids = np.empty((self.k, X.shape[1]))\n",
    "        if self.init == 'random':\n",
    "            initial = np.random.randint(0, self.X.shape[0], self.k)\n",
    "            self.centroids = self.X[initial]\n",
    "        if self.init == 'kek':\n",
    "            initial = np.mean(self.X, axis=0)\n",
    "            self.centroids = initial + np.random.sample(\n",
    "                (self.k, self.X.shape[1]))\n",
    "        if self.init == 'k-means':\n",
    "            self.centroids[0] = self.X[np.random.randint(0, self.X.shape[0])]\n",
    "            for i in range(1, self.k):\n",
    "                min_dist = np.min(pairwise_distances(\n",
    "                    self.X, self.centroids[:i],\n",
    "                    self.metric), axis=1) ** 2\n",
    "                distribution = min_dist / np.sum(min_dist)\n",
    "                self.centroids[i] = self.X[np.random.choice(\n",
    "                    range(self.X.shape[0]),\n",
    "                    p=distribution)]\n",
    "\n",
    "        self.labels = self.set_labels(self.X, self.centroids, self.metric)\n",
    "        steps = 1\n",
    "        while(steps <= self.max_iter):\n",
    "            prev_centr = np.array(self.centroids)\n",
    "            mini_batch = np.random.permutation(\n",
    "                self.X.shape[0])[:self.batch_size]\n",
    "            self.labels[mini_batch] = self.set_labels(\n",
    "                self.X[mini_batch], self.centroids, self.metric)\n",
    "            value_count = np.zeros(self.X.shape[0])\n",
    "            for i in mini_batch:\n",
    "                value_count[self.labels[i]] += 1\n",
    "                v_c = value_count[self.labels[i]]\n",
    "                self.centroids[self.labels[i]] = (\n",
    "                    self.centroids[self.labels[i]]*(1 - 1 / v_c)\n",
    "                    + self.X[i] * (1 / v_c))\n",
    "                if(np.all(prev_centr == self.centroids)):\n",
    "                    break\n",
    "                steps += 1\n",
    "        self.labels = self.set_labels(self.X, self.centroids, self.metric)\n",
    "        return self"
   ]
  },
  {
   "cell_type": "markdown",
   "metadata": {},
   "source": [
    "### Проверка корректности метода\n",
    "\n",
    "Перед тем как применять алгоритм на реальных данных, нужно испытать его на простых \"игрушечных\" данных.\n",
    "\n",
    "Если алгоритм реализован правильно, то метод должен идеально разбивать на 3 кластера данные ниже. Проверьте это.\n",
    "\n",
    "ВНИМАНИЕ! Проверка должна быть осуществлена на всех реализациях, иначе реализация не будет зачтена!"
   ]
  },
  {
   "cell_type": "code",
   "execution_count": 3,
   "metadata": {},
   "outputs": [],
   "source": [
    "from sklearn.datasets import make_blobs"
   ]
  },
  {
   "cell_type": "code",
   "execution_count": 4,
   "metadata": {},
   "outputs": [],
   "source": [
    "X, y = make_blobs(n_samples=100, n_features=2, centers=3, cluster_std=1, \n",
    "           center_box=(-10.0, 10.0), shuffle=False, random_state=1234)"
   ]
  },
  {
   "cell_type": "code",
   "execution_count": 5,
   "metadata": {},
   "outputs": [
    {
     "data": {
      "text/plain": [
       "<matplotlib.collections.PathCollection at 0xb698c50>"
      ]
     },
     "execution_count": 5,
     "metadata": {},
     "output_type": "execute_result"
    },
    {
     "data": {
      "image/png": "[encoded data removed]",
      "text/plain": [
       "<Figure size 432x288 with 1 Axes>"
      ]
     },
     "metadata": {},
     "output_type": "display_data"
    }
   ],
   "source": [
    "plt.scatter(X[:,0], X[:, 1], c=y)"
   ]
  },
  {
   "cell_type": "markdown",
   "metadata": {},
   "source": [
    "Проверьте Вашу имплементацию на простых данных (без этого пункта ДЗ не считается выполненным).   \n",
    "КОММЕНТАРИИ НЕ СТИРАТЬ!"
   ]
  },
  {
   "cell_type": "code",
   "execution_count": 6,
   "metadata": {},
   "outputs": [
    {
     "data": {
      "image/png": "[encoded data removed]",
      "text/plain": [
       "<Figure size 432x288 with 1 Axes>"
      ]
     },
     "metadata": {},
     "output_type": "display_data"
    },
    {
     "data": {
      "image/png": "[encoded data removed]",
      "text/plain": [
       "<Figure size 432x288 with 1 Axes>"
      ]
     },
     "metadata": {},
     "output_type": "display_data"
    }
   ],
   "source": [
    "## Работоспособность MyKmeans\n",
    "for i in range(2):\n",
    "    my_clust = MyKmeans(k=3, init=\"random\")\n",
    "    my_clust.fit(X)\n",
    "    plt.scatter(X[:,0], X[:, 1], c=my_clust.predict(X))\n",
    "    plt.scatter(my_clust.centroids[:, 0], my_clust.centroids[:, 1])\n",
    "    plt.show()"
   ]
  },
  {
   "cell_type": "code",
   "execution_count": 7,
   "metadata": {},
   "outputs": [
    {
     "data": {
      "image/png": "[encoded data removed]",
      "text/plain": [
       "<Figure size 432x288 with 1 Axes>"
      ]
     },
     "metadata": {},
     "output_type": "display_data"
    },
    {
     "data": {
      "image/png": "[encoded data removed]",
      "text/plain": [
       "<Figure size 432x288 with 1 Axes>"
      ]
     },
     "metadata": {},
     "output_type": "display_data"
    }
   ],
   "source": [
    "## Работоспособность MyKmeans++\n",
    "for i in range(2):\n",
    "    my_clust = MyKmeans(k=3, init=\"k-means\")\n",
    "    my_clust.fit(X)    \n",
    "    plt.scatter(X[:,0], X[:, 1], c=my_clust.predict(X))\n",
    "    plt.scatter(my_clust.centroids[:, 0], my_clust.centroids[:, 1])\n",
    "    plt.show()"
   ]
  },
  {
   "cell_type": "code",
   "execution_count": 8,
   "metadata": {},
   "outputs": [
    {
     "data": {
      "image/png": "[encoded data removed]",
      "text/plain": [
       "<Figure size 432x288 with 1 Axes>"
      ]
     },
     "metadata": {},
     "output_type": "display_data"
    },
    {
     "data": {
      "image/png": "[encoded data removed]",
      "text/plain": [
       "<Figure size 432x288 with 1 Axes>"
      ]
     },
     "metadata": {},
     "output_type": "display_data"
    }
   ],
   "source": [
    "## Работоспособность MyKmeans с MiniBatchMyKmeans\n",
    "for _ in range(2):\n",
    "    my_clust = MiniBatchKMeans(k=3, init=\"random\", batch_size=10).fit(X)\n",
    "    plt.scatter(X[:,0], X[:, 1], c=my_clust.predict(X))\n",
    "    plt.scatter(my_clust.centroids[:, 0], my_clust.centroids[:, 1])\n",
    "    plt.show()"
   ]
  },
  {
   "cell_type": "code",
   "execution_count": 9,
   "metadata": {},
   "outputs": [
    {
     "data": {
      "image/png": "[encoded data removed]",
      "text/plain": [
       "<Figure size 432x288 with 1 Axes>"
      ]
     },
     "metadata": {},
     "output_type": "display_data"
    },
    {
     "data": {
      "image/png": "[encoded data removed]",
      "text/plain": [
       "<Figure size 432x288 with 1 Axes>"
      ]
     },
     "metadata": {},
     "output_type": "display_data"
    }
   ],
   "source": [
    "## Работоспособность MyKmeans++ с MiniBatchMyKmeans\n",
    "for _ in range(2):\n",
    "    my_clust = MiniBatchKMeans(k=3, init=\"k-means\", batch_size=10).fit(X)\n",
    "    plt.scatter(X[:,0], X[:, 1], c=my_clust.predict(X))\n",
    "    plt.scatter(my_clust.centroids[:, 0], my_clust.centroids[:, 1])\n",
    "    plt.show()"
   ]
  },
  {
   "cell_type": "code",
   "execution_count": 10,
   "metadata": {},
   "outputs": [
    {
     "name": "stdout",
     "output_type": "stream",
     "text": [
      "Wall time: 36 ms\n"
     ]
    },
    {
     "data": {
      "text/plain": [
       "KMeans(algorithm='auto', copy_x=True, init='random', max_iter=1000,\n",
       "    n_clusters=3, n_init=10, n_jobs=1, precompute_distances='auto',\n",
       "    random_state=None, tol=0.0001, verbose=0)"
      ]
     },
     "execution_count": 10,
     "metadata": {},
     "output_type": "execute_result"
    }
   ],
   "source": [
    "## Время выполнения алгоритма Kmeans из sklearn\n",
    "clust = KMeans(n_clusters=3, init = \"random\", max_iter=1000)\n",
    "%time clust.fit(X)"
   ]
  },
  {
   "cell_type": "code",
   "execution_count": 11,
   "metadata": {},
   "outputs": [
    {
     "name": "stdout",
     "output_type": "stream",
     "text": [
      "Wall time: 6 ms\n"
     ]
    },
    {
     "data": {
      "text/plain": [
       "<__main__.MyKmeans at 0xb7a1cf8>"
      ]
     },
     "execution_count": 11,
     "metadata": {},
     "output_type": "execute_result"
    }
   ],
   "source": [
    "## Время выполнения алгоритма MyKmeans\n",
    "my_clust = MyKmeans(k = 3, init=\"random\")\n",
    "%time my_clust.fit(X)"
   ]
  },
  {
   "cell_type": "code",
   "execution_count": 12,
   "metadata": {},
   "outputs": [
    {
     "name": "stdout",
     "output_type": "stream",
     "text": [
      "Wall time: 3 ms\n"
     ]
    },
    {
     "data": {
      "text/plain": [
       "<__main__.MyKmeans at 0xb7a1c88>"
      ]
     },
     "execution_count": 12,
     "metadata": {},
     "output_type": "execute_result"
    }
   ],
   "source": [
    "## Время выполнения алгоритма MyKmeans++\n",
    "my_clust = MyKmeans(k = 3, init=\"k-means\")\n",
    "%time my_clust.fit(X)"
   ]
  },
  {
   "cell_type": "code",
   "execution_count": 13,
   "metadata": {},
   "outputs": [
    {
     "name": "stdout",
     "output_type": "stream",
     "text": [
      "Wall time: 77 ms\n"
     ]
    },
    {
     "data": {
      "text/plain": [
       "<__main__.MiniBatchKMeans at 0xb7a1748>"
      ]
     },
     "execution_count": 13,
     "metadata": {},
     "output_type": "execute_result"
    }
   ],
   "source": [
    "## Время выполнения алгоритма MyKmeans с MiniBatchMyKmeans\n",
    "my_clust = MiniBatchKMeans(k = 3, init=\"random\", batch_size=10)\n",
    "%time my_clust.fit(X)"
   ]
  },
  {
   "cell_type": "code",
   "execution_count": 14,
   "metadata": {},
   "outputs": [
    {
     "name": "stdout",
     "output_type": "stream",
     "text": [
      "Wall time: 85 ms\n"
     ]
    },
    {
     "data": {
      "text/plain": [
       "<__main__.MiniBatchKMeans at 0xb839c88>"
      ]
     },
     "execution_count": 14,
     "metadata": {},
     "output_type": "execute_result"
    }
   ],
   "source": [
    "## Время выполнения алгоритма  MyKmeans++ с MiniBatchMyKmeans\n",
    "my_clust = MiniBatchKMeans(k = 3, init=\"k-means\", batch_size=10)\n",
    "%time my_clust.fit(X)"
   ]
  },
  {
   "cell_type": "code",
   "execution_count": 15,
   "metadata": {},
   "outputs": [
    {
     "name": "stdout",
     "output_type": "stream",
     "text": [
      "Wall time: 84 ms\n"
     ]
    },
    {
     "data": {
      "text/plain": [
       "<__main__.MiniBatchKMeans at 0xb8eaa58>"
      ]
     },
     "execution_count": 15,
     "metadata": {},
     "output_type": "execute_result"
    }
   ],
   "source": [
    "my_clust = MiniBatchKMeans(k = 3, init=\"kek\", batch_size=10)\n",
    "%time my_clust.fit(X)"
   ]
  },
  {
   "cell_type": "code",
   "execution_count": 16,
   "metadata": {},
   "outputs": [
    {
     "data": {
      "image/png": "[encoded data removed]",
      "text/plain": [
       "<Figure size 432x288 with 1 Axes>"
      ]
     },
     "metadata": {},
     "output_type": "display_data"
    }
   ],
   "source": [
    "import time\n",
    "rand = 10\n",
    "number = 10\n",
    "clust = [[KMeans(n_clusters=3, max_iter=1000, random_state=rand),\n",
    "        MyKmeans(k=3, init='random', random_state=rand),\n",
    "        MyKmeans(k=3, init='k-means', random_state=rand),\n",
    "        MyKmeans(k=3, init='kek', random_state=rand),\n",
    "        MiniBatchKMeans(k=3, init='random', random_state=rand),\n",
    "        MiniBatchKMeans(k=3, init='k-means', random_state=rand)],\n",
    "        ['KMeans', 'MyKmeans', 'MyKmeans++','MyKmeansKek', \n",
    "             'MyMinibatchKmeans', 'MyMinibatchKmeans++']]\n",
    "check_set = np.linspace(10000, 100000, number, dtype=int)\n",
    "fit_time = np.zeros((len(clust[0]), number))\n",
    "x = np.zeros(number)\n",
    "\n",
    "for ind, n in enumerate(check_set):\n",
    "    X, y = make_blobs(n_samples=int(n), n_features=2, centers=3, cluster_std=1, \n",
    "           center_box=(-10.0, 10.0), shuffle=False, random_state=10)\n",
    "#     ft = np.zeros(len(clust[0]))\n",
    "    for c, k in enumerate(clust[0]):\n",
    "        curr_time = time.time()\n",
    "        clust[0][c].fit(X)\n",
    "        fit_time[c][ind] = (time.time() - curr_time)\n",
    "for i, _ in enumerate(clust[0]):\n",
    "    plt.plot(check_set.tolist(), fit_time[i], label=clust[1][i])\n",
    "plt.xlabel('Размер набор')\n",
    "plt.ylabel('Время')\n",
    "plt.legend()\n",
    "plt.show()"
   ]
  },
  {
   "cell_type": "markdown",
   "metadata": {},
   "source": [
    "# Применение K-means на реальных данных"
   ]
  },
  {
   "cell_type": "markdown",
   "metadata": {},
   "source": [
    "Загрузите [данные](https://github.com/brenden17/sklearnlab/blob/master/facebook/snsdata.csv) в которых содержится описание интересов профилей учеников старшей школы США.  (без этого пункта задание не считается выполненным).   \n",
    "ВНИМАНИЕ! Проверка должна быть осуществлена на всех реализациях, иначе реализация не будет зачтена!"
   ]
  },
  {
   "cell_type": "code",
   "execution_count": 17,
   "metadata": {},
   "outputs": [
    {
     "data": {
      "text/html": [
       "<div>\n",
       "<style scoped>\n",
       "    .dataframe tbody tr th:only-of-type {\n",
       "        vertical-align: middle;\n",
       "    }\n",
       "\n",
       "    .dataframe tbody tr th {\n",
       "        vertical-align: top;\n",
       "    }\n",
       "\n",
       "    .dataframe thead th {\n",
       "        text-align: right;\n",
       "    }\n",
       "</style>\n",
       "<table border=\"1\" class=\"dataframe\">\n",
       "  <thead>\n",
       "    <tr style=\"text-align: right;\">\n",
       "      <th></th>\n",
       "      <th>gradyear</th>\n",
       "      <th>gender</th>\n",
       "      <th>age</th>\n",
       "      <th>friends</th>\n",
       "      <th>basketball</th>\n",
       "      <th>football</th>\n",
       "      <th>soccer</th>\n",
       "      <th>softball</th>\n",
       "      <th>volleyball</th>\n",
       "      <th>swimming</th>\n",
       "      <th>...</th>\n",
       "      <th>blonde</th>\n",
       "      <th>mall</th>\n",
       "      <th>shopping</th>\n",
       "      <th>clothes</th>\n",
       "      <th>hollister</th>\n",
       "      <th>abercrombie</th>\n",
       "      <th>die</th>\n",
       "      <th>death</th>\n",
       "      <th>drunk</th>\n",
       "      <th>drugs</th>\n",
       "    </tr>\n",
       "  </thead>\n",
       "  <tbody>\n",
       "    <tr>\n",
       "      <th>0</th>\n",
       "      <td>2006</td>\n",
       "      <td>M</td>\n",
       "      <td>18.982</td>\n",
       "      <td>7</td>\n",
       "      <td>0</td>\n",
       "      <td>0</td>\n",
       "      <td>0</td>\n",
       "      <td>0</td>\n",
       "      <td>0</td>\n",
       "      <td>0</td>\n",
       "      <td>...</td>\n",
       "      <td>0</td>\n",
       "      <td>0</td>\n",
       "      <td>0</td>\n",
       "      <td>0</td>\n",
       "      <td>0</td>\n",
       "      <td>0</td>\n",
       "      <td>0</td>\n",
       "      <td>0</td>\n",
       "      <td>0</td>\n",
       "      <td>0</td>\n",
       "    </tr>\n",
       "    <tr>\n",
       "      <th>1</th>\n",
       "      <td>2006</td>\n",
       "      <td>F</td>\n",
       "      <td>18.801</td>\n",
       "      <td>0</td>\n",
       "      <td>0</td>\n",
       "      <td>1</td>\n",
       "      <td>0</td>\n",
       "      <td>0</td>\n",
       "      <td>0</td>\n",
       "      <td>0</td>\n",
       "      <td>...</td>\n",
       "      <td>0</td>\n",
       "      <td>1</td>\n",
       "      <td>0</td>\n",
       "      <td>0</td>\n",
       "      <td>0</td>\n",
       "      <td>0</td>\n",
       "      <td>0</td>\n",
       "      <td>0</td>\n",
       "      <td>0</td>\n",
       "      <td>0</td>\n",
       "    </tr>\n",
       "    <tr>\n",
       "      <th>2</th>\n",
       "      <td>2006</td>\n",
       "      <td>M</td>\n",
       "      <td>18.335</td>\n",
       "      <td>69</td>\n",
       "      <td>0</td>\n",
       "      <td>1</td>\n",
       "      <td>0</td>\n",
       "      <td>0</td>\n",
       "      <td>0</td>\n",
       "      <td>0</td>\n",
       "      <td>...</td>\n",
       "      <td>0</td>\n",
       "      <td>0</td>\n",
       "      <td>0</td>\n",
       "      <td>0</td>\n",
       "      <td>0</td>\n",
       "      <td>0</td>\n",
       "      <td>0</td>\n",
       "      <td>1</td>\n",
       "      <td>0</td>\n",
       "      <td>0</td>\n",
       "    </tr>\n",
       "    <tr>\n",
       "      <th>3</th>\n",
       "      <td>2006</td>\n",
       "      <td>F</td>\n",
       "      <td>18.875</td>\n",
       "      <td>0</td>\n",
       "      <td>0</td>\n",
       "      <td>0</td>\n",
       "      <td>0</td>\n",
       "      <td>0</td>\n",
       "      <td>0</td>\n",
       "      <td>0</td>\n",
       "      <td>...</td>\n",
       "      <td>0</td>\n",
       "      <td>0</td>\n",
       "      <td>0</td>\n",
       "      <td>0</td>\n",
       "      <td>0</td>\n",
       "      <td>0</td>\n",
       "      <td>0</td>\n",
       "      <td>0</td>\n",
       "      <td>0</td>\n",
       "      <td>0</td>\n",
       "    </tr>\n",
       "    <tr>\n",
       "      <th>4</th>\n",
       "      <td>2006</td>\n",
       "      <td>NaN</td>\n",
       "      <td>18.995</td>\n",
       "      <td>10</td>\n",
       "      <td>0</td>\n",
       "      <td>0</td>\n",
       "      <td>0</td>\n",
       "      <td>0</td>\n",
       "      <td>0</td>\n",
       "      <td>0</td>\n",
       "      <td>...</td>\n",
       "      <td>0</td>\n",
       "      <td>0</td>\n",
       "      <td>2</td>\n",
       "      <td>0</td>\n",
       "      <td>0</td>\n",
       "      <td>0</td>\n",
       "      <td>0</td>\n",
       "      <td>0</td>\n",
       "      <td>1</td>\n",
       "      <td>1</td>\n",
       "    </tr>\n",
       "  </tbody>\n",
       "</table>\n",
       "<p>5 rows × 40 columns</p>\n",
       "</div>"
      ],
      "text/plain": [
       "   gradyear gender     age  friends  basketball  football  soccer  softball  \\\n",
       "0      2006      M  18.982        7           0         0       0         0   \n",
       "1      2006      F  18.801        0           0         1       0         0   \n",
       "2      2006      M  18.335       69           0         1       0         0   \n",
       "3      2006      F  18.875        0           0         0       0         0   \n",
       "4      2006    NaN  18.995       10           0         0       0         0   \n",
       "\n",
       "   volleyball  swimming  ...    blonde  mall  shopping  clothes  hollister  \\\n",
       "0           0         0  ...         0     0         0        0          0   \n",
       "1           0         0  ...         0     1         0        0          0   \n",
       "2           0         0  ...         0     0         0        0          0   \n",
       "3           0         0  ...         0     0         0        0          0   \n",
       "4           0         0  ...         0     0         2        0          0   \n",
       "\n",
       "   abercrombie  die  death  drunk  drugs  \n",
       "0            0    0      0      0      0  \n",
       "1            0    0      0      0      0  \n",
       "2            0    0      1      0      0  \n",
       "3            0    0      0      0      0  \n",
       "4            0    0      0      1      1  \n",
       "\n",
       "[5 rows x 40 columns]"
      ]
     },
     "execution_count": 17,
     "metadata": {},
     "output_type": "execute_result"
    }
   ],
   "source": [
    "df_sns = pd.read_csv('snsdata.csv', sep=',')\n",
    "df_sns.head()"
   ]
  },
  {
   "cell_type": "markdown",
   "metadata": {},
   "source": [
    "Данные устроены так: \n",
    "* Год выпуска\n",
    "* Пол\n",
    "* Возраст\n",
    "* Количество друзей\n",
    "* 36 ключевых слов, которые встречаются в профилe facebook (интересы, сообщества, встречи)"
   ]
  },
  {
   "cell_type": "markdown",
   "metadata": {},
   "source": [
    "* Удалите все признаки кроме 36 ключевых слов.\n",
    "* Нормализуйте данные - из каждого столбца вычтите его среднее значение и поделите на стандартное отклонение.\n",
    "* Используйте метод k-means чтобы выделить 9 кластеров\n",
    "* Попробуйте проинтерпретировать каждый кластер проанализировав полученные центройды (Некоторые кластеры могут быть очень большие и очень маленькие - плохо интерпретируются)   \n",
    "КОММЕНТАРИИ НЕ СТИРАТЬ!"
   ]
  },
  {
   "cell_type": "code",
   "execution_count": 18,
   "metadata": {},
   "outputs": [
    {
     "data": {
      "text/html": [
       "<div>\n",
       "<style scoped>\n",
       "    .dataframe tbody tr th:only-of-type {\n",
       "        vertical-align: middle;\n",
       "    }\n",
       "\n",
       "    .dataframe tbody tr th {\n",
       "        vertical-align: top;\n",
       "    }\n",
       "\n",
       "    .dataframe thead th {\n",
       "        text-align: right;\n",
       "    }\n",
       "</style>\n",
       "<table border=\"1\" class=\"dataframe\">\n",
       "  <thead>\n",
       "    <tr style=\"text-align: right;\">\n",
       "      <th></th>\n",
       "      <th>basketball</th>\n",
       "      <th>football</th>\n",
       "      <th>soccer</th>\n",
       "      <th>softball</th>\n",
       "      <th>volleyball</th>\n",
       "      <th>swimming</th>\n",
       "      <th>cheerleading</th>\n",
       "      <th>baseball</th>\n",
       "      <th>tennis</th>\n",
       "      <th>sports</th>\n",
       "      <th>...</th>\n",
       "      <th>blonde</th>\n",
       "      <th>mall</th>\n",
       "      <th>shopping</th>\n",
       "      <th>clothes</th>\n",
       "      <th>hollister</th>\n",
       "      <th>abercrombie</th>\n",
       "      <th>die</th>\n",
       "      <th>death</th>\n",
       "      <th>drunk</th>\n",
       "      <th>drugs</th>\n",
       "    </tr>\n",
       "  </thead>\n",
       "  <tbody>\n",
       "    <tr>\n",
       "      <th>0</th>\n",
       "      <td>0</td>\n",
       "      <td>0</td>\n",
       "      <td>0</td>\n",
       "      <td>0</td>\n",
       "      <td>0</td>\n",
       "      <td>0</td>\n",
       "      <td>0</td>\n",
       "      <td>0</td>\n",
       "      <td>0</td>\n",
       "      <td>0</td>\n",
       "      <td>...</td>\n",
       "      <td>0</td>\n",
       "      <td>0</td>\n",
       "      <td>0</td>\n",
       "      <td>0</td>\n",
       "      <td>0</td>\n",
       "      <td>0</td>\n",
       "      <td>0</td>\n",
       "      <td>0</td>\n",
       "      <td>0</td>\n",
       "      <td>0</td>\n",
       "    </tr>\n",
       "    <tr>\n",
       "      <th>1</th>\n",
       "      <td>0</td>\n",
       "      <td>1</td>\n",
       "      <td>0</td>\n",
       "      <td>0</td>\n",
       "      <td>0</td>\n",
       "      <td>0</td>\n",
       "      <td>0</td>\n",
       "      <td>0</td>\n",
       "      <td>0</td>\n",
       "      <td>0</td>\n",
       "      <td>...</td>\n",
       "      <td>0</td>\n",
       "      <td>1</td>\n",
       "      <td>0</td>\n",
       "      <td>0</td>\n",
       "      <td>0</td>\n",
       "      <td>0</td>\n",
       "      <td>0</td>\n",
       "      <td>0</td>\n",
       "      <td>0</td>\n",
       "      <td>0</td>\n",
       "    </tr>\n",
       "    <tr>\n",
       "      <th>2</th>\n",
       "      <td>0</td>\n",
       "      <td>1</td>\n",
       "      <td>0</td>\n",
       "      <td>0</td>\n",
       "      <td>0</td>\n",
       "      <td>0</td>\n",
       "      <td>0</td>\n",
       "      <td>0</td>\n",
       "      <td>0</td>\n",
       "      <td>0</td>\n",
       "      <td>...</td>\n",
       "      <td>0</td>\n",
       "      <td>0</td>\n",
       "      <td>0</td>\n",
       "      <td>0</td>\n",
       "      <td>0</td>\n",
       "      <td>0</td>\n",
       "      <td>0</td>\n",
       "      <td>1</td>\n",
       "      <td>0</td>\n",
       "      <td>0</td>\n",
       "    </tr>\n",
       "    <tr>\n",
       "      <th>3</th>\n",
       "      <td>0</td>\n",
       "      <td>0</td>\n",
       "      <td>0</td>\n",
       "      <td>0</td>\n",
       "      <td>0</td>\n",
       "      <td>0</td>\n",
       "      <td>0</td>\n",
       "      <td>0</td>\n",
       "      <td>0</td>\n",
       "      <td>0</td>\n",
       "      <td>...</td>\n",
       "      <td>0</td>\n",
       "      <td>0</td>\n",
       "      <td>0</td>\n",
       "      <td>0</td>\n",
       "      <td>0</td>\n",
       "      <td>0</td>\n",
       "      <td>0</td>\n",
       "      <td>0</td>\n",
       "      <td>0</td>\n",
       "      <td>0</td>\n",
       "    </tr>\n",
       "    <tr>\n",
       "      <th>4</th>\n",
       "      <td>0</td>\n",
       "      <td>0</td>\n",
       "      <td>0</td>\n",
       "      <td>0</td>\n",
       "      <td>0</td>\n",
       "      <td>0</td>\n",
       "      <td>0</td>\n",
       "      <td>0</td>\n",
       "      <td>0</td>\n",
       "      <td>0</td>\n",
       "      <td>...</td>\n",
       "      <td>0</td>\n",
       "      <td>0</td>\n",
       "      <td>2</td>\n",
       "      <td>0</td>\n",
       "      <td>0</td>\n",
       "      <td>0</td>\n",
       "      <td>0</td>\n",
       "      <td>0</td>\n",
       "      <td>1</td>\n",
       "      <td>1</td>\n",
       "    </tr>\n",
       "  </tbody>\n",
       "</table>\n",
       "<p>5 rows × 36 columns</p>\n",
       "</div>"
      ],
      "text/plain": [
       "   basketball  football  soccer  softball  volleyball  swimming  cheerleading  \\\n",
       "0           0         0       0         0           0         0             0   \n",
       "1           0         1       0         0           0         0             0   \n",
       "2           0         1       0         0           0         0             0   \n",
       "3           0         0       0         0           0         0             0   \n",
       "4           0         0       0         0           0         0             0   \n",
       "\n",
       "   baseball  tennis  sports  ...    blonde  mall  shopping  clothes  \\\n",
       "0         0       0       0  ...         0     0         0        0   \n",
       "1         0       0       0  ...         0     1         0        0   \n",
       "2         0       0       0  ...         0     0         0        0   \n",
       "3         0       0       0  ...         0     0         0        0   \n",
       "4         0       0       0  ...         0     0         2        0   \n",
       "\n",
       "   hollister  abercrombie  die  death  drunk  drugs  \n",
       "0          0            0    0      0      0      0  \n",
       "1          0            0    0      0      0      0  \n",
       "2          0            0    0      1      0      0  \n",
       "3          0            0    0      0      0      0  \n",
       "4          0            0    0      0      1      1  \n",
       "\n",
       "[5 rows x 36 columns]"
      ]
     },
     "execution_count": 18,
     "metadata": {},
     "output_type": "execute_result"
    }
   ],
   "source": [
    "df_new_sns = df_sns.drop(df_sns.columns[[0, 1, 2, 3]], axis=1)\n",
    "df_new_sns.head()"
   ]
  },
  {
   "cell_type": "code",
   "execution_count": 19,
   "metadata": {},
   "outputs": [],
   "source": [
    "df_norm = (df_new_sns - df_new_sns.mean()) / (df_new_sns.std())"
   ]
  },
  {
   "cell_type": "code",
   "execution_count": 20,
   "metadata": {},
   "outputs": [],
   "source": [
    "n = np.array(df_norm)"
   ]
  },
  {
   "cell_type": "code",
   "execution_count": 21,
   "metadata": {},
   "outputs": [],
   "source": [
    "def clusters(kmean, data, Max):\n",
    "    %time kmean.fit(data)\n",
    "    labels = kmean.predict(data)\n",
    "    df_sns.loc[:, 'label'] = labels\n",
    "    for c, group in df_sns.groupby('label'):\n",
    "        print('Кластер: {}'.format(int(c)+1))\n",
    "        print('Число участников: {}'.format(list(kmean.labels).count(c)))\n",
    "        print(group.iloc[:, 4:-1].mean().nlargest(Max))\n",
    "        print('=' * 10 + '\\n')"
   ]
  },
  {
   "cell_type": "code",
   "execution_count": 22,
   "metadata": {},
   "outputs": [
    {
     "name": "stdout",
     "output_type": "stream",
     "text": [
      "Wall time: 10.9 s\n",
      "Кластер: 1\n",
      "Число участников: 680\n",
      "music       0.574780\n",
      "god         0.325333\n",
      "dance       0.252491\n",
      "hair        0.211996\n",
      "shopping    0.200265\n",
      "dtype: float64\n",
      "==========\n",
      "\n",
      "Кластер: 2\n",
      "Число участников: 20373\n",
      "dance       1.298336\n",
      "shopping    1.151891\n",
      "music       1.083207\n",
      "cute        1.030862\n",
      "mall        0.890772\n",
      "dtype: float64\n",
      "==========\n",
      "\n",
      "Кластер: 3\n",
      "Число участников: 652\n",
      "hair      3.288725\n",
      "sex       2.598525\n",
      "music     2.257113\n",
      "kissed    1.719705\n",
      "die       1.279241\n",
      "dtype: float64\n",
      "==========\n",
      "\n",
      "Кластер: 4\n",
      "Число участников: 2304\n",
      "basketball    1.430556\n",
      "football      1.340712\n",
      "music         0.802951\n",
      "baseball      0.750000\n",
      "volleyball    0.660590\n",
      "dtype: float64\n",
      "==========\n",
      "\n",
      "Кластер: 5\n",
      "Число участников: 497\n",
      "cheerleading    2.924847\n",
      "shopping        0.716258\n",
      "music           0.696319\n",
      "dance           0.631902\n",
      "hair            0.538344\n",
      "dtype: float64\n",
      "==========\n",
      "\n",
      "Кластер: 6\n",
      "Число участников: 949\n",
      "band        4.109395\n",
      "marching    1.386100\n",
      "music       1.232947\n",
      "god         0.512227\n",
      "dance       0.465894\n",
      "dtype: float64\n",
      "==========\n",
      "\n",
      "Кластер: 7\n",
      "Число участников: 777\n",
      "soccer      4.951471\n",
      "music       0.775000\n",
      "shopping    0.516176\n",
      "god         0.464706\n",
      "hair        0.445588\n",
      "dtype: float64\n",
      "==========\n",
      "\n",
      "Кластер: 8\n",
      "Число участников: 463\n",
      "god       4.727862\n",
      "church    2.149028\n",
      "jesus     2.077754\n",
      "music     1.064795\n",
      "bible     0.965443\n",
      "dtype: float64\n",
      "==========\n",
      "\n",
      "Кластер: 9\n",
      "Число участников: 3305\n",
      "softball      4.712274\n",
      "music         0.847082\n",
      "basketball    0.786720\n",
      "volleyball    0.535211\n",
      "shopping      0.531187\n",
      "dtype: float64\n",
      "==========\n",
      "\n"
     ]
    }
   ],
   "source": [
    "## MyKMeans\n",
    "clusters(MyKmeans(k = 9, init = \"random\", random_state=10), n, 5)"
   ]
  },
  {
   "cell_type": "markdown",
   "metadata": {},
   "source": [
    "1. Малый класс обычных людей\n",
    "2. Возможно подростки\n",
    "3. С суицидальными наклонностями \n",
    "4. Спортсмены\n",
    "5. Девушки\n",
    "6. Музыканты\n",
    "7. Обычные люди\n",
    "8. Религиозная группа\n",
    "9. Спортсмены"
   ]
  },
  {
   "cell_type": "code",
   "execution_count": 23,
   "metadata": {},
   "outputs": [
    {
     "name": "stdout",
     "output_type": "stream",
     "text": [
      "Wall time: 6.51 s\n",
      "Кластер: 1\n",
      "Число участников: 703\n",
      "music       0.528470\n",
      "god         0.280338\n",
      "dance       0.226065\n",
      "hair        0.189786\n",
      "shopping    0.176545\n",
      "dtype: float64\n",
      "==========\n",
      "\n",
      "Кластер: 2\n",
      "Число участников: 20618\n",
      "music       1.219964\n",
      "god         1.039927\n",
      "dance       1.019601\n",
      "shopping    0.849183\n",
      "cute        0.753176\n",
      "dtype: float64\n",
      "==========\n",
      "\n",
      "Кластер: 3\n",
      "Число участников: 641\n",
      "hair      2.771946\n",
      "sex       1.916742\n",
      "music     1.839819\n",
      "kissed    1.431674\n",
      "die       1.160181\n",
      "dtype: float64\n",
      "==========\n",
      "\n",
      "Кластер: 4\n",
      "Число участников: 1\n",
      "hollister      1.508939\n",
      "abercrombie    1.164482\n",
      "hair           0.928486\n",
      "shopping       0.914184\n",
      "music          0.890346\n",
      "dtype: float64\n",
      "==========\n",
      "\n",
      "Кластер: 5\n",
      "Число участников: 5510\n",
      "cheerleading    2.936037\n",
      "shopping        0.725429\n",
      "music           0.691108\n",
      "dance           0.636505\n",
      "god             0.558502\n",
      "dtype: float64\n",
      "==========\n",
      "\n",
      "Кластер: 6\n",
      "Число участников: 839\n",
      "soccer        4.879090\n",
      "music         0.766714\n",
      "shopping      0.499289\n",
      "god           0.455192\n",
      "basketball    0.449502\n",
      "dtype: float64\n",
      "==========\n",
      "\n",
      "Кластер: 7\n",
      "Число участников: 38\n",
      "baseball      3.001835\n",
      "football      1.220183\n",
      "basketball    0.990826\n",
      "music         0.844037\n",
      "rock          0.691743\n",
      "dtype: float64\n",
      "==========\n",
      "\n",
      "Кластер: 8\n",
      "Число участников: 545\n",
      "sex       13.131579\n",
      "hair       9.289474\n",
      "music      7.763158\n",
      "kissed     4.394737\n",
      "rock       2.684211\n",
      "dtype: float64\n",
      "==========\n",
      "\n",
      "Кластер: 9\n",
      "Число участников: 1105\n",
      "blonde    327.0\n",
      "sex        22.0\n",
      "hair       12.0\n",
      "god        10.0\n",
      "die         6.0\n",
      "dtype: float64\n",
      "==========\n",
      "\n"
     ]
    }
   ],
   "source": [
    "## MyKMeans++\n",
    "clusters(MyKmeans(k = 9, init = \"k-means\", random_state=10), n, 5)"
   ]
  },
  {
   "cell_type": "markdown",
   "metadata": {},
   "source": [
    "1. Малый класс обычных людей\n",
    "2. Слишком большой класс\n",
    "3. С суицидальными наклонностями \n",
    "4. -\n",
    "5. Девушки\n",
    "6. Обычные люди\n",
    "7. Спортсмены\n",
    "8. Панки\n",
    "9. Анимешники"
   ]
  },
  {
   "cell_type": "code",
   "execution_count": 24,
   "metadata": {},
   "outputs": [
    {
     "name": "stdout",
     "output_type": "stream",
     "text": [
      "Wall time: 272 ms\n",
      "Кластер: 1\n",
      "Число участников: 20\n",
      "music       0.720600\n",
      "god         0.457159\n",
      "dance       0.416088\n",
      "hair        0.391010\n",
      "shopping    0.344154\n",
      "dtype: float64\n",
      "==========\n",
      "\n",
      "Кластер: 2\n",
      "Число участников: 8\n",
      "softball      5.695876\n",
      "basketball    3.056701\n",
      "band          1.123711\n",
      "music         0.943299\n",
      "sports        0.798969\n",
      "dtype: float64\n",
      "==========\n",
      "\n",
      "Кластер: 3\n",
      "Число участников: 29388\n",
      "hot      3.194444\n",
      "cute     2.766667\n",
      "hair     2.161111\n",
      "music    1.450000\n",
      "dance    1.105556\n",
      "dtype: float64\n",
      "==========\n",
      "\n",
      "Кластер: 4\n",
      "Число участников: 109\n",
      "band        3.779817\n",
      "swimming    3.550459\n",
      "marching    1.871560\n",
      "music       1.431193\n",
      "god         0.697248\n",
      "dtype: float64\n",
      "==========\n",
      "\n",
      "Кластер: 5\n",
      "Число участников: 74\n",
      "hair      5.337838\n",
      "sex       3.378378\n",
      "soccer    3.351351\n",
      "music     2.864865\n",
      "die       2.662162\n",
      "dtype: float64\n",
      "==========\n",
      "\n",
      "Кластер: 6\n",
      "Число участников: 7\n",
      "blonde     43.375\n",
      "hair       16.250\n",
      "sex        10.625\n",
      "music      10.000\n",
      "clothes     4.250\n",
      "dtype: float64\n",
      "==========\n",
      "\n",
      "Кластер: 7\n",
      "Число участников: 194\n",
      "death    10.285714\n",
      "god       3.000000\n",
      "dance     1.857143\n",
      "die       1.857143\n",
      "cute      1.714286\n",
      "dtype: float64\n",
      "==========\n",
      "\n",
      "Кластер: 8\n",
      "Число участников: 20\n",
      "hollister      5.25\n",
      "hair           2.90\n",
      "shopping       1.60\n",
      "music          1.50\n",
      "abercrombie    1.40\n",
      "dtype: float64\n",
      "==========\n",
      "\n",
      "Кластер: 9\n",
      "Число участников: 180\n",
      "sexy     8.55\n",
      "cute     1.80\n",
      "dance    1.55\n",
      "sex      1.50\n",
      "music    1.35\n",
      "dtype: float64\n",
      "==========\n",
      "\n"
     ]
    }
   ],
   "source": [
    "## MyKMeans с MiniBatchMyKMeans\n",
    "clusters(MiniBatchKMeans(k = 9, init = \"random\", random_state=10), n, 5)"
   ]
  },
  {
   "cell_type": "markdown",
   "metadata": {},
   "source": [
    "Сложно что-либо сказать, неудачная кластеризация"
   ]
  },
  {
   "cell_type": "code",
   "execution_count": 27,
   "metadata": {},
   "outputs": [
    {
     "name": "stdout",
     "output_type": "stream",
     "text": [
      "Wall time: 536 ms\n",
      "Кластер: 1\n",
      "Число участников: 79\n",
      "music       0.707192\n",
      "god         0.450828\n",
      "dance       0.407011\n",
      "hair        0.383607\n",
      "shopping    0.334713\n",
      "dtype: float64\n",
      "==========\n",
      "\n",
      "Кластер: 2\n",
      "Число участников: 35\n",
      "volleyball    4.210046\n",
      "music         0.716895\n",
      "basketball    0.675799\n",
      "shopping      0.673516\n",
      "softball      0.648402\n",
      "dtype: float64\n",
      "==========\n",
      "\n",
      "Кластер: 3\n",
      "Число участников: 28756\n",
      "band            8.277778\n",
      "marching        2.000000\n",
      "music           1.750000\n",
      "cheerleading    0.738889\n",
      "dance           0.672222\n",
      "dtype: float64\n",
      "==========\n",
      "\n",
      "Кластер: 4\n",
      "Число участников: 180\n",
      "hollister      2.866667\n",
      "hair           2.080000\n",
      "abercrombie    1.673333\n",
      "music          1.520000\n",
      "shopping       1.140000\n",
      "dtype: float64\n",
      "==========\n",
      "\n",
      "Кластер: 5\n",
      "Число участников: 438\n",
      "hot           1.888889\n",
      "music         1.805556\n",
      "rock          1.772222\n",
      "hair          1.655556\n",
      "basketball    1.544444\n",
      "dtype: float64\n",
      "==========\n",
      "\n",
      "Кластер: 6\n",
      "Число участников: 1\n",
      "sexy     5.822785\n",
      "music    1.443038\n",
      "cute     1.278481\n",
      "dance    1.265823\n",
      "sex      1.126582\n",
      "dtype: float64\n",
      "==========\n",
      "\n",
      "Кластер: 7\n",
      "Число участников: 1\n",
      "sex       10.971429\n",
      "hair       8.514286\n",
      "kissed     5.457143\n",
      "music      5.057143\n",
      "die        2.942857\n",
      "dtype: float64\n",
      "==========\n",
      "\n",
      "Кластер: 8\n",
      "Число участников: 360\n",
      "sex       114.0\n",
      "church     10.0\n",
      "music       1.0\n",
      "rock        1.0\n",
      "death       1.0\n",
      "dtype: float64\n",
      "==========\n",
      "\n",
      "Кластер: 9\n",
      "Число участников: 150\n",
      "blonde    327.0\n",
      "sex        22.0\n",
      "hair       12.0\n",
      "god        10.0\n",
      "die         6.0\n",
      "dtype: float64\n",
      "==========\n",
      "\n"
     ]
    }
   ],
   "source": [
    "## MyKMeans++ с MiniBatchMyKMeans\n",
    "clusters(MiniBatchKMeans(k = 9, init = \"k-means\", random_state=10), n, 5)"
   ]
  },
  {
   "cell_type": "markdown",
   "metadata": {},
   "source": [
    "Аналогично, как и с random"
   ]
  },
  {
   "cell_type": "code",
   "execution_count": 28,
   "metadata": {},
   "outputs": [],
   "source": [
    "## Вывод"
   ]
  },
  {
   "cell_type": "markdown",
   "metadata": {},
   "source": [
    "Minibatch с параметром random и minibatch  с параметром k-means проявили себя неплохо на игрушечных данных, но показывают крайне некачественный результат на реальных данных. В среднем KMeans++ рабоает достаточно стабильно по сравнению с обычным, при этом несколько быстрее. Интересно заметить, что метод с параметром инициализации 'kek' работает почти также, как и kmeans++. На реальных данных minibatch сильно выигрывает в скорости, в то время как другие реализации примерно равны."
   ]
  },
  {
   "cell_type": "code",
   "execution_count": null,
   "metadata": {},
   "outputs": [],
   "source": []
  }
 ],
 "metadata": {
  "anaconda-cloud": {},
  "kernelspec": {
   "display_name": "Python 3",
   "language": "python",
   "name": "python3"
  },
  "language_info": {
   "codemirror_mode": {
    "name": "ipython",
    "version": 3
   },
   "file_extension": ".py",
   "mimetype": "text/x-python",
   "name": "python",
   "nbconvert_exporter": "python",
   "pygments_lexer": "ipython3",
   "version": "3.6.5"
  },
  "nav_menu": {},
  "toc": {
   "navigate_menu": true,
   "number_sections": false,
   "sideBar": true,
   "threshold": 6,
   "toc_cell": false,
   "toc_section_display": "block",
   "toc_window_display": true
  }
 },
 "nbformat": 4,
 "nbformat_minor": 2
}
