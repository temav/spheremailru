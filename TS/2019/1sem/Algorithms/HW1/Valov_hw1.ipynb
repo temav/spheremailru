{
 "cells": [
  {
   "cell_type": "markdown",
   "metadata": {},
   "source": [
    "**Общая информация**\n",
    "\n",
    "**Срок сдачи:** 20 марта 2019, 06:00 <br\\>\n",
    "**Штраф за опоздание:** -1 балл после 06:00 20 марта, -2 балла после 06:00 27 марта, -3 балла после 06:00 3 апреля\n",
    "\n",
    "При отправлении ДЗ указывайте фамилию в названии файла\n",
    "Присылать ДЗ необходимо в виде ссылки на свой github репозиторий в slack @alkhamush\n",
    "\n",
    "Необходимо в slack скинуть ссылку в личный чат @alkhamush\n",
    "Пример ссылки:\n",
    "https://github.com/stroykova/spheremailru/stroykova_hw1.ipynb \n",
    "\n",
    "\n",
    "Используйте данный Ipython Notebook при оформлении домашнего задания."
   ]
  },
  {
   "cell_type": "markdown",
   "metadata": {},
   "source": [
    "###### Задание 1 (2 баллов)\n",
    "Реализовать KNN в классе MyKNeighborsClassifier (обязательное условие: точность не ниже sklearn реализации)\n",
    "Разберитесь самостоятельно, какая мера расстояния используется в KNeighborsClassifier дефолтно и реализуйте свой алгоритм именно с этой мерой. Самостоятельно разберитесь, как считается score из KNeighborsClassifier и реализуйте аналог в своём классе. Score не должен уступать значению KNN из sklearn\n",
    "\n",
    "###### Задание 2 (2 балла)\n",
    "Добиться скорости работы на fit,  predict и predict_proba сравнимой со sklearn для iris и mnist\n",
    "Для этого используем numpy\n",
    "\n",
    "###### Задание 3 (2 балла)\n",
    "Для iris найдите такой параметр n_neighbors, при котором выдаётся наилучший score. Нарисуйте график зависимости score от n_neighbors\n",
    "\n",
    "###### Задание 4 (3 балла)\n",
    "Добавить algorithm='kd_tree' в реализацию KNN (использовать KDTree из sklearn.neighbors). Значение n_neighbors нужно взять из задания 3. Добиться скорости работы на fit,  predict и predict_proba сравнимой со sklearn для iris и mnist\n",
    "Для этого используем numpy. Score не должен уступать значению KNN из sklearn\n",
    "\n",
    "###### Задание 5 (1 балла)\n",
    "Описать для чего нужны следующие библиотеки/классы/функции (список будет ниже)\n",
    "\n",
    "**Штрафные баллы:**\n",
    "\n",
    "1. Невыполнение PEP8 -1 балл\n",
    "2. Отсутствие фамилии в имени скрипта (скрипт должен называться по аналогии со stroykova_hw1.ipynb) -1 балл\n",
    "3. Все строчки должны быть выполнены. Нужно, чтобы output команды можно было увидеть уже в git'е. В противном случае -1 балл\n",
    "4. При оформлении ДЗ нужно пользоваться данным файлом в качестве шаблона. Не нужно удалять и видоизменять структуру кода и текст. В противном случае -1 балл\n"
   ]
  },
  {
   "cell_type": "code",
   "execution_count": 1,
   "metadata": {},
   "outputs": [],
   "source": [
    "import numpy as np\n",
    "import pandas as pd\n",
    "import math\n",
    "import matplotlib.pyplot as plt\n",
    "\n",
    "import seaborn as sns\n",
    "from sklearn import datasets\n",
    "from sklearn.base import ClassifierMixin\n",
    "from sklearn.datasets import fetch_mldata\n",
    "from sklearn.neighbors.base import NeighborsBase, KNeighborsMixin, SupervisedIntegerMixin \n",
    "from sklearn.model_selection import train_test_split\n",
    "from sklearn.neighbors import KNeighborsClassifier, KDTree\n",
    "from sklearn.metrics.pairwise import pairwise_distances\n",
    "from sklearn.metrics import accuracy_score\n",
    "%load_ext pycodestyle_magic"
   ]
  },
  {
   "cell_type": "code",
   "execution_count": 2,
   "metadata": {},
   "outputs": [],
   "source": [
    "#%%pycodestyle\n",
    "\n",
    "\n",
    "class MyKNeighborsClassifier(NeighborsBase, KNeighborsMixin,\n",
    "                             SupervisedIntegerMixin, ClassifierMixin):\n",
    "\n",
    "    def __init__(self, n_neighbors, algorithm='brute'):\n",
    "        self.n_neighbors = int(n_neighbors)\n",
    "        self.algorithm = algorithm\n",
    "\n",
    "    def fit(self, X, y):\n",
    "        self._fit_y = np.array(y)\n",
    "        self._class_y = np.unique(y)\n",
    "        self._fit_X = np.array(X)\n",
    "        if self.algorithm == 'kd_tree':\n",
    "            self._KDtree_fit = KDTree(self._fit_X)\n",
    "        return self\n",
    "\n",
    "    def predict(self, X):\n",
    "        return np.array([np.bincount(i).argmax()\n",
    "                         for i in self.metrica(X)]).astype('int')\n",
    "\n",
    "    def predict_proba(self, X):\n",
    "        return np.array([(np.bincount(i, minlength=self._class_y.size)\n",
    "                          / (self.n_neighbors)).tolist()\n",
    "                         for i in self.metrica(X)]).astype('float')\n",
    "\n",
    "    def metrica(self, X):\n",
    "        if self.algorithm == 'brute':\n",
    "            metric = pairwise_distances(X, self._fit_X)\n",
    "            m_ind = metric.argpartition(self.n_neighbors)[:, :self.n_neighbors]\n",
    "        elif self.algorithm == 'kd_tree':\n",
    "            _, m_ind = self._KDtree_fit.query(X, k=self.n_neighbors)\n",
    "        Y_ind = [[y_train[j] for j in i] for i in m_ind]\n",
    "        return Y_ind\n",
    "\n",
    "    def score(self, X, y):\n",
    "        return accuracy_score(y, self.predict(X))\n",
    "\n",
    "    # return np.average(y == self.predict(X))"
   ]
  },
  {
   "cell_type": "markdown",
   "metadata": {},
   "source": [
    "**IRIS**"
   ]
  },
  {
   "cell_type": "code",
   "execution_count": 3,
   "metadata": {},
   "outputs": [],
   "source": [
    "iris = datasets.load_iris()"
   ]
  },
  {
   "cell_type": "code",
   "execution_count": 4,
   "metadata": {},
   "outputs": [],
   "source": [
    "X_train, X_test, y_train, y_test = train_test_split(iris.data, iris.target, test_size=0.1, stratify=iris.target)"
   ]
  },
  {
   "cell_type": "code",
   "execution_count": 5,
   "metadata": {},
   "outputs": [],
   "source": [
    "clf = KNeighborsClassifier(n_neighbors=2, algorithm='brute')\n",
    "my_clf = MyKNeighborsClassifier(n_neighbors=2)"
   ]
  },
  {
   "cell_type": "code",
   "execution_count": 6,
   "metadata": {},
   "outputs": [
    {
     "name": "stdout",
     "output_type": "stream",
     "text": [
      "Wall time: 2 ms\n"
     ]
    },
    {
     "data": {
      "text/plain": [
       "KNeighborsClassifier(algorithm='brute', leaf_size=30, metric='minkowski',\n",
       "           metric_params=None, n_jobs=1, n_neighbors=2, p=2,\n",
       "           weights='uniform')"
      ]
     },
     "execution_count": 6,
     "metadata": {},
     "output_type": "execute_result"
    }
   ],
   "source": [
    "%time clf.fit(X_train, y_train)"
   ]
  },
  {
   "cell_type": "code",
   "execution_count": 7,
   "metadata": {},
   "outputs": [
    {
     "name": "stdout",
     "output_type": "stream",
     "text": [
      "Wall time: 1e+03 µs\n"
     ]
    },
    {
     "data": {
      "text/plain": [
       "MyKNeighborsClassifier(algorithm='brute', n_neighbors=2)"
      ]
     },
     "execution_count": 7,
     "metadata": {},
     "output_type": "execute_result"
    }
   ],
   "source": [
    "%time my_clf.fit(X_train, y_train)"
   ]
  },
  {
   "cell_type": "code",
   "execution_count": 8,
   "metadata": {},
   "outputs": [
    {
     "name": "stdout",
     "output_type": "stream",
     "text": [
      "Wall time: 18 ms\n"
     ]
    },
    {
     "data": {
      "text/plain": [
       "array([2, 0, 2, 0, 0, 0, 2, 1, 1, 1, 1, 0, 1, 1, 2])"
      ]
     },
     "execution_count": 8,
     "metadata": {},
     "output_type": "execute_result"
    }
   ],
   "source": [
    "%time clf.predict(X_test)"
   ]
  },
  {
   "cell_type": "code",
   "execution_count": 9,
   "metadata": {},
   "outputs": [
    {
     "name": "stdout",
     "output_type": "stream",
     "text": [
      "Wall time: 4 ms\n"
     ]
    },
    {
     "data": {
      "text/plain": [
       "array([2, 0, 2, 0, 0, 0, 2, 1, 1, 1, 1, 0, 1, 1, 2])"
      ]
     },
     "execution_count": 9,
     "metadata": {},
     "output_type": "execute_result"
    }
   ],
   "source": [
    "%time my_clf.predict(X_test)"
   ]
  },
  {
   "cell_type": "code",
   "execution_count": 10,
   "metadata": {},
   "outputs": [
    {
     "name": "stdout",
     "output_type": "stream",
     "text": [
      "Wall time: 2 ms\n"
     ]
    },
    {
     "data": {
      "text/plain": [
       "array([[0., 0., 1.],\n",
       "       [1., 0., 0.],\n",
       "       [0., 0., 1.],\n",
       "       [1., 0., 0.],\n",
       "       [1., 0., 0.],\n",
       "       [1., 0., 0.],\n",
       "       [0., 0., 1.],\n",
       "       [0., 1., 0.],\n",
       "       [0., 1., 0.],\n",
       "       [0., 1., 0.],\n",
       "       [0., 1., 0.],\n",
       "       [1., 0., 0.],\n",
       "       [0., 1., 0.],\n",
       "       [0., 1., 0.],\n",
       "       [0., 0., 1.]])"
      ]
     },
     "execution_count": 10,
     "metadata": {},
     "output_type": "execute_result"
    }
   ],
   "source": [
    "%time clf.predict_proba(X_test)"
   ]
  },
  {
   "cell_type": "code",
   "execution_count": 11,
   "metadata": {},
   "outputs": [
    {
     "name": "stdout",
     "output_type": "stream",
     "text": [
      "Wall time: 2 ms\n"
     ]
    },
    {
     "data": {
      "text/plain": [
       "array([[0., 0., 1.],\n",
       "       [1., 0., 0.],\n",
       "       [0., 0., 1.],\n",
       "       [1., 0., 0.],\n",
       "       [1., 0., 0.],\n",
       "       [1., 0., 0.],\n",
       "       [0., 0., 1.],\n",
       "       [0., 1., 0.],\n",
       "       [0., 1., 0.],\n",
       "       [0., 1., 0.],\n",
       "       [0., 1., 0.],\n",
       "       [1., 0., 0.],\n",
       "       [0., 1., 0.],\n",
       "       [0., 1., 0.],\n",
       "       [0., 0., 1.]])"
      ]
     },
     "execution_count": 11,
     "metadata": {},
     "output_type": "execute_result"
    }
   ],
   "source": [
    "%time my_clf.predict_proba(X_test)"
   ]
  },
  {
   "cell_type": "code",
   "execution_count": 12,
   "metadata": {},
   "outputs": [
    {
     "data": {
      "text/plain": [
       "0.9333333333333333"
      ]
     },
     "execution_count": 12,
     "metadata": {},
     "output_type": "execute_result"
    }
   ],
   "source": [
    "clf.score(X_test, y_test)"
   ]
  },
  {
   "cell_type": "code",
   "execution_count": 13,
   "metadata": {},
   "outputs": [
    {
     "data": {
      "text/plain": [
       "0.9333333333333333"
      ]
     },
     "execution_count": 13,
     "metadata": {},
     "output_type": "execute_result"
    }
   ],
   "source": [
    "my_clf.score(X_test, y_test)"
   ]
  },
  {
   "cell_type": "markdown",
   "metadata": {},
   "source": [
    "Задание 3"
   ]
  },
  {
   "cell_type": "code",
   "execution_count": 14,
   "metadata": {},
   "outputs": [],
   "source": [
    "scores = np.zeros(30)\n",
    "for i in range(0, 30):\n",
    "    mean_score = np.zeros(1001)\n",
    "    for j in range(0, 1000):\n",
    "        X_train, X_test, y_train, y_test = (\n",
    "            train_test_split(\n",
    "                iris.data, iris.target, test_size=0.1, stratify=iris.target))\n",
    "        my_clf = MyKNeighborsClassifier(n_neighbors=(i+1))\n",
    "        my_clf.fit(X_train, y_train)\n",
    "        my_clf.predict(X_test)\n",
    "        mean_score[j] = my_clf.score(X_test, y_test)\n",
    "    scores[i] = np.mean(mean_score)\n",
    "best_n = scores.argmax(axis=0)+1"
   ]
  },
  {
   "cell_type": "code",
   "execution_count": 15,
   "metadata": {},
   "outputs": [
    {
     "data": {
      "text/plain": [
       "17"
      ]
     },
     "execution_count": 15,
     "metadata": {},
     "output_type": "execute_result"
    }
   ],
   "source": [
    "best_n"
   ]
  },
  {
   "cell_type": "code",
   "execution_count": 16,
   "metadata": {},
   "outputs": [
    {
     "data": {
      "image/png": "[encoded data removed]",
      "text/plain": [
       "<Figure size 432x288 with 1 Axes>"
      ]
     },
     "metadata": {},
     "output_type": "display_data"
    }
   ],
   "source": [
    "plt.plot(range(1,31), scores)\n",
    "plt.xlabel(\"n_neighbors\")\n",
    "plt.ylabel(\"score, loops = {}\".format(1000))\n",
    "plt.title(\"оптимальный параметр\")\n",
    "plt.show()"
   ]
  },
  {
   "cell_type": "markdown",
   "metadata": {},
   "source": [
    "**MNIST**"
   ]
  },
  {
   "cell_type": "code",
   "execution_count": 17,
   "metadata": {},
   "outputs": [],
   "source": [
    "mnist = fetch_mldata('MNIST original')"
   ]
  },
  {
   "cell_type": "code",
   "execution_count": 18,
   "metadata": {},
   "outputs": [],
   "source": [
    "X_train, X_test, y_train, y_test = train_test_split(mnist.data, mnist.target, test_size=0.01, stratify=mnist.target)"
   ]
  },
  {
   "cell_type": "code",
   "execution_count": 19,
   "metadata": {},
   "outputs": [],
   "source": [
    "clf = KNeighborsClassifier(n_neighbors=2)\n",
    "my_clf = MyKNeighborsClassifier(n_neighbors=2)"
   ]
  },
  {
   "cell_type": "code",
   "execution_count": 20,
   "metadata": {},
   "outputs": [
    {
     "name": "stdout",
     "output_type": "stream",
     "text": [
      "Wall time: 3min\n"
     ]
    },
    {
     "data": {
      "text/plain": [
       "KNeighborsClassifier(algorithm='auto', leaf_size=30, metric='minkowski',\n",
       "           metric_params=None, n_jobs=1, n_neighbors=2, p=2,\n",
       "           weights='uniform')"
      ]
     },
     "execution_count": 20,
     "metadata": {},
     "output_type": "execute_result"
    }
   ],
   "source": [
    "%time clf.fit(X_train, y_train)"
   ]
  },
  {
   "cell_type": "code",
   "execution_count": 21,
   "metadata": {},
   "outputs": [
    {
     "name": "stdout",
     "output_type": "stream",
     "text": [
      "Wall time: 71 ms\n"
     ]
    },
    {
     "data": {
      "text/plain": [
       "MyKNeighborsClassifier(algorithm='brute', n_neighbors=2)"
      ]
     },
     "execution_count": 21,
     "metadata": {},
     "output_type": "execute_result"
    }
   ],
   "source": [
    "%time my_clf.fit(X_train, y_train)"
   ]
  },
  {
   "cell_type": "code",
   "execution_count": 22,
   "metadata": {},
   "outputs": [
    {
     "name": "stdout",
     "output_type": "stream",
     "text": [
      "Wall time: 2min 55s\n"
     ]
    },
    {
     "data": {
      "text/plain": [
       "array([8., 1., 6., 4., 0., 0., 0., 4., 8., 4., 1., 1., 8., 2., 9., 3., 2.,\n",
       "       8., 1., 8., 2., 8., 9., 0., 5., 6., 4., 0., 1., 9., 8., 7., 0., 1.,\n",
       "       3., 8., 5., 6., 2., 3., 3., 0., 7., 5., 0., 9., 3., 5., 2., 4., 8.,\n",
       "       6., 6., 9., 3., 9., 8., 1., 0., 2., 4., 3., 9., 9., 6., 8., 1., 4.,\n",
       "       0., 4., 2., 5., 8., 3., 1., 5., 4., 5., 7., 8., 9., 3., 1., 2., 3.,\n",
       "       6., 1., 7., 0., 2., 8., 5., 8., 5., 8., 8., 0., 3., 5., 4., 8., 9.,\n",
       "       9., 4., 9., 1., 2., 9., 8., 1., 5., 4., 4., 9., 1., 6., 2., 9., 6.,\n",
       "       4., 0., 0., 9., 6., 3., 0., 7., 5., 6., 0., 9., 1., 4., 4., 7., 5.,\n",
       "       4., 7., 2., 2., 0., 0., 9., 1., 6., 2., 1., 1., 1., 9., 2., 7., 5.,\n",
       "       7., 2., 7., 5., 2., 5., 9., 5., 8., 7., 1., 7., 5., 1., 4., 5., 3.,\n",
       "       6., 9., 6., 5., 6., 0., 4., 1., 2., 6., 7., 6., 6., 2., 3., 3., 9.,\n",
       "       7., 3., 4., 6., 6., 2., 1., 8., 5., 3., 1., 9., 2., 1., 5., 9., 3.,\n",
       "       7., 5., 6., 4., 1., 8., 1., 2., 7., 4., 0., 1., 8., 1., 7., 6., 7.,\n",
       "       5., 3., 6., 4., 9., 4., 7., 8., 0., 1., 7., 3., 9., 2., 9., 6., 8.,\n",
       "       4., 1., 8., 0., 3., 9., 3., 3., 4., 3., 2., 2., 7., 9., 3., 0., 3.,\n",
       "       9., 6., 2., 3., 6., 1., 6., 4., 1., 2., 3., 8., 1., 5., 3., 0., 5.,\n",
       "       2., 6., 4., 4., 5., 9., 7., 8., 5., 7., 7., 6., 5., 3., 9., 4., 1.,\n",
       "       1., 0., 6., 4., 9., 5., 5., 4., 4., 2., 0., 4., 1., 7., 5., 6., 5.,\n",
       "       2., 2., 6., 5., 1., 1., 3., 9., 7., 0., 3., 2., 8., 7., 3., 2., 9.,\n",
       "       0., 3., 0., 4., 4., 9., 7., 2., 0., 5., 3., 8., 4., 8., 0., 8., 0.,\n",
       "       6., 9., 8., 2., 1., 7., 3., 7., 8., 9., 9., 5., 7., 7., 0., 5., 1.,\n",
       "       4., 5., 2., 2., 2., 6., 3., 5., 2., 8., 7., 2., 5., 7., 4., 7., 0.,\n",
       "       2., 0., 5., 6., 6., 9., 8., 2., 9., 4., 5., 2., 9., 8., 6., 8., 3.,\n",
       "       7., 0., 5., 9., 7., 7., 6., 3., 6., 2., 0., 6., 0., 6., 1., 5., 2.,\n",
       "       6., 9., 5., 4., 7., 0., 7., 4., 2., 2., 3., 6., 5., 6., 4., 0., 2.,\n",
       "       9., 7., 9., 7., 0., 7., 5., 0., 6., 7., 3., 8., 5., 4., 5., 2., 1.,\n",
       "       5., 0., 7., 4., 4., 0., 1., 4., 4., 4., 2., 0., 7., 4., 1., 7., 7.,\n",
       "       4., 3., 0., 3., 7., 0., 1., 1., 7., 8., 2., 1., 8., 7., 3., 1., 9.,\n",
       "       7., 3., 7., 6., 7., 7., 1., 7., 3., 8., 1., 4., 9., 2., 4., 1., 1.,\n",
       "       0., 5., 3., 0., 2., 7., 4., 1., 5., 4., 2., 2., 3., 1., 9., 8., 1.,\n",
       "       1., 8., 8., 9., 2., 8., 8., 0., 1., 4., 3., 1., 3., 8., 9., 6., 2.,\n",
       "       1., 3., 3., 6., 6., 3., 0., 2., 4., 0., 8., 9., 9., 1., 7., 6., 8.,\n",
       "       0., 6., 3., 7., 7., 9., 9., 3., 5., 1., 4., 6., 2., 0., 3., 5., 1.,\n",
       "       3., 9., 4., 6., 1., 4., 0., 9., 6., 6., 0., 6., 3., 8., 2., 7., 6.,\n",
       "       0., 2., 0., 0., 7., 2., 1., 1., 3., 2., 0., 6., 3., 1., 1., 0., 6.,\n",
       "       3., 3., 0., 6., 9., 3., 8., 7., 5., 4., 6., 3., 0., 4., 1., 1., 0.,\n",
       "       8., 3., 8., 4., 5., 8., 5., 5., 8., 8., 5., 0., 7., 1., 4., 8., 9.,\n",
       "       9., 5., 6., 0., 1., 2., 7., 8., 8., 1., 6., 7., 7., 7., 4., 0., 1.,\n",
       "       0., 1., 1., 2., 1., 1., 2., 1., 6., 2., 7., 9., 0., 6., 9., 2., 6.,\n",
       "       8., 9., 3., 3., 3., 6., 1., 9., 7., 7., 0., 2., 5., 6., 7., 3., 3.,\n",
       "       9., 7., 1., 5., 5., 1., 6., 2., 9., 7., 0., 9., 2., 3., 3., 9., 0.,\n",
       "       7., 2., 4.])"
      ]
     },
     "execution_count": 22,
     "metadata": {},
     "output_type": "execute_result"
    }
   ],
   "source": [
    "%time clf.predict(X_test)"
   ]
  },
  {
   "cell_type": "code",
   "execution_count": 23,
   "metadata": {},
   "outputs": [
    {
     "name": "stdout",
     "output_type": "stream",
     "text": [
      "Wall time: 14.9 s\n"
     ]
    },
    {
     "data": {
      "text/plain": [
       "array([8, 1, 6, 4, 0, 0, 0, 4, 8, 4, 1, 1, 8, 2, 9, 3, 2, 8, 1, 8, 2, 8,\n",
       "       9, 0, 5, 6, 4, 0, 1, 9, 8, 7, 0, 1, 3, 8, 5, 6, 2, 3, 3, 0, 7, 5,\n",
       "       0, 9, 3, 5, 2, 4, 8, 6, 6, 9, 3, 9, 8, 1, 0, 2, 4, 3, 9, 9, 6, 8,\n",
       "       1, 4, 0, 4, 2, 5, 8, 3, 1, 5, 4, 5, 7, 8, 9, 3, 1, 2, 3, 6, 1, 7,\n",
       "       0, 2, 8, 5, 8, 5, 8, 8, 0, 3, 5, 4, 8, 9, 9, 4, 9, 1, 2, 9, 8, 1,\n",
       "       5, 4, 4, 9, 1, 6, 2, 9, 6, 4, 0, 0, 9, 6, 3, 0, 7, 5, 6, 0, 9, 1,\n",
       "       4, 4, 7, 5, 4, 7, 2, 2, 0, 0, 9, 1, 6, 2, 1, 1, 1, 9, 2, 7, 5, 7,\n",
       "       2, 7, 5, 2, 5, 9, 5, 8, 7, 1, 7, 5, 1, 4, 5, 3, 6, 9, 6, 5, 6, 0,\n",
       "       4, 1, 2, 6, 7, 6, 6, 2, 3, 3, 9, 7, 3, 4, 6, 6, 2, 1, 8, 5, 3, 1,\n",
       "       9, 2, 1, 5, 9, 3, 7, 5, 6, 4, 1, 8, 1, 2, 7, 4, 0, 1, 8, 1, 7, 6,\n",
       "       7, 5, 3, 6, 4, 9, 4, 7, 8, 0, 1, 7, 3, 9, 2, 9, 6, 8, 4, 1, 8, 0,\n",
       "       3, 9, 3, 3, 4, 3, 2, 2, 7, 9, 3, 0, 3, 9, 6, 2, 3, 6, 1, 6, 4, 1,\n",
       "       2, 3, 8, 1, 5, 3, 0, 5, 2, 6, 4, 4, 5, 9, 7, 8, 5, 7, 7, 6, 5, 3,\n",
       "       9, 4, 1, 1, 0, 6, 4, 9, 5, 5, 4, 4, 2, 0, 4, 1, 7, 5, 6, 5, 2, 2,\n",
       "       6, 5, 1, 1, 3, 9, 7, 0, 3, 2, 8, 7, 3, 2, 9, 0, 3, 0, 4, 4, 9, 7,\n",
       "       2, 0, 5, 3, 8, 4, 8, 0, 8, 0, 6, 9, 8, 2, 1, 7, 3, 7, 8, 9, 9, 5,\n",
       "       7, 7, 0, 5, 1, 4, 5, 2, 2, 2, 6, 3, 5, 2, 8, 7, 2, 5, 7, 4, 7, 0,\n",
       "       2, 0, 5, 6, 6, 9, 8, 2, 9, 4, 5, 2, 9, 8, 6, 8, 3, 7, 0, 5, 9, 7,\n",
       "       7, 6, 3, 6, 2, 0, 6, 0, 6, 1, 5, 2, 6, 9, 5, 4, 7, 0, 7, 4, 2, 2,\n",
       "       3, 6, 5, 6, 4, 0, 2, 9, 7, 9, 7, 0, 7, 5, 0, 6, 7, 3, 8, 5, 4, 5,\n",
       "       2, 1, 5, 0, 7, 4, 4, 0, 1, 4, 4, 4, 2, 0, 7, 4, 1, 7, 7, 4, 3, 0,\n",
       "       3, 7, 0, 1, 1, 7, 8, 2, 1, 8, 7, 3, 1, 9, 7, 3, 7, 6, 7, 7, 1, 7,\n",
       "       3, 8, 1, 4, 9, 2, 4, 1, 1, 0, 5, 3, 0, 2, 7, 4, 1, 5, 4, 2, 2, 3,\n",
       "       1, 9, 8, 1, 1, 8, 8, 9, 2, 8, 8, 0, 1, 4, 3, 1, 3, 8, 9, 6, 2, 1,\n",
       "       3, 3, 6, 6, 3, 0, 2, 4, 0, 8, 9, 9, 1, 7, 6, 8, 0, 6, 3, 7, 7, 9,\n",
       "       9, 3, 5, 1, 4, 6, 2, 0, 3, 5, 1, 3, 9, 4, 6, 1, 4, 0, 9, 6, 6, 0,\n",
       "       6, 3, 8, 2, 7, 6, 0, 2, 0, 0, 7, 2, 1, 1, 3, 2, 0, 6, 3, 1, 1, 0,\n",
       "       6, 3, 3, 0, 6, 9, 3, 8, 7, 5, 4, 6, 3, 0, 4, 1, 1, 0, 8, 3, 8, 4,\n",
       "       5, 8, 5, 5, 8, 8, 5, 0, 7, 1, 4, 8, 9, 9, 5, 6, 0, 1, 2, 7, 8, 8,\n",
       "       1, 6, 7, 7, 7, 4, 0, 1, 0, 1, 1, 2, 1, 1, 2, 1, 6, 2, 7, 9, 0, 6,\n",
       "       9, 2, 6, 8, 9, 3, 3, 3, 6, 1, 9, 7, 7, 0, 2, 5, 6, 7, 3, 3, 9, 7,\n",
       "       1, 5, 5, 1, 6, 2, 9, 7, 0, 9, 2, 3, 3, 9, 0, 7, 2, 4])"
      ]
     },
     "execution_count": 23,
     "metadata": {},
     "output_type": "execute_result"
    }
   ],
   "source": [
    "%time my_clf.predict(X_test)"
   ]
  },
  {
   "cell_type": "code",
   "execution_count": 24,
   "metadata": {},
   "outputs": [
    {
     "name": "stdout",
     "output_type": "stream",
     "text": [
      "Wall time: 2min 55s\n"
     ]
    },
    {
     "data": {
      "text/plain": [
       "array([[0. , 0. , 0. , ..., 0. , 1. , 0. ],\n",
       "       [0. , 1. , 0. , ..., 0. , 0. , 0. ],\n",
       "       [0. , 0. , 0. , ..., 0. , 0. , 0. ],\n",
       "       ...,\n",
       "       [0. , 0. , 0. , ..., 1. , 0. , 0. ],\n",
       "       [0. , 0. , 1. , ..., 0. , 0. , 0. ],\n",
       "       [0. , 0. , 0. , ..., 0. , 0. , 0.5]])"
      ]
     },
     "execution_count": 24,
     "metadata": {},
     "output_type": "execute_result"
    }
   ],
   "source": [
    "%time clf.predict_proba(X_test)"
   ]
  },
  {
   "cell_type": "code",
   "execution_count": 25,
   "metadata": {},
   "outputs": [
    {
     "name": "stdout",
     "output_type": "stream",
     "text": [
      "Wall time: 8.97 s\n"
     ]
    },
    {
     "data": {
      "text/plain": [
       "array([[0. , 0. , 0. , ..., 0. , 1. , 0. ],\n",
       "       [0. , 1. , 0. , ..., 0. , 0. , 0. ],\n",
       "       [0. , 0. , 0. , ..., 0. , 0. , 0. ],\n",
       "       ...,\n",
       "       [0. , 0. , 0. , ..., 1. , 0. , 0. ],\n",
       "       [0. , 0. , 1. , ..., 0. , 0. , 0. ],\n",
       "       [0. , 0. , 0. , ..., 0. , 0. , 0.5]])"
      ]
     },
     "execution_count": 25,
     "metadata": {},
     "output_type": "execute_result"
    }
   ],
   "source": [
    "%time my_clf.predict_proba(X_test)"
   ]
  },
  {
   "cell_type": "code",
   "execution_count": 26,
   "metadata": {},
   "outputs": [
    {
     "data": {
      "text/plain": [
       "0.9728571428571429"
      ]
     },
     "execution_count": 26,
     "metadata": {},
     "output_type": "execute_result"
    }
   ],
   "source": [
    "clf.score(X_test, y_test)"
   ]
  },
  {
   "cell_type": "code",
   "execution_count": 27,
   "metadata": {},
   "outputs": [
    {
     "data": {
      "text/plain": [
       "0.9728571428571429"
      ]
     },
     "execution_count": 27,
     "metadata": {},
     "output_type": "execute_result"
    }
   ],
   "source": [
    "my_clf.score(X_test, y_test)"
   ]
  },
  {
   "cell_type": "markdown",
   "metadata": {},
   "source": [
    "Задание 4"
   ]
  },
  {
   "cell_type": "code",
   "execution_count": 28,
   "metadata": {},
   "outputs": [],
   "source": [
    "clf = KNeighborsClassifier(n_neighbors=17, algorithm='kd_tree')\n",
    "my_clf = MyKNeighborsClassifier(n_neighbors=17, algorithm='kd_tree')"
   ]
  },
  {
   "cell_type": "code",
   "execution_count": 29,
   "metadata": {},
   "outputs": [],
   "source": [
    "X_train, X_test, y_train, y_test = train_test_split(mnist.data, mnist.target, test_size=0.01, stratify=mnist.target)"
   ]
  },
  {
   "cell_type": "code",
   "execution_count": 30,
   "metadata": {},
   "outputs": [
    {
     "name": "stdout",
     "output_type": "stream",
     "text": [
      "Wall time: 3min 4s\n"
     ]
    },
    {
     "data": {
      "text/plain": [
       "KNeighborsClassifier(algorithm='kd_tree', leaf_size=30, metric='minkowski',\n",
       "           metric_params=None, n_jobs=1, n_neighbors=17, p=2,\n",
       "           weights='uniform')"
      ]
     },
     "execution_count": 30,
     "metadata": {},
     "output_type": "execute_result"
    }
   ],
   "source": [
    "%time clf.fit(X_train, y_train)"
   ]
  },
  {
   "cell_type": "code",
   "execution_count": 31,
   "metadata": {},
   "outputs": [
    {
     "name": "stdout",
     "output_type": "stream",
     "text": [
      "Wall time: 3min 8s\n"
     ]
    },
    {
     "data": {
      "text/plain": [
       "MyKNeighborsClassifier(algorithm='kd_tree', n_neighbors=17)"
      ]
     },
     "execution_count": 31,
     "metadata": {},
     "output_type": "execute_result"
    }
   ],
   "source": [
    "%time my_clf.fit(X_train, y_train)"
   ]
  },
  {
   "cell_type": "code",
   "execution_count": 32,
   "metadata": {},
   "outputs": [
    {
     "name": "stdout",
     "output_type": "stream",
     "text": [
      "Wall time: 3min\n"
     ]
    },
    {
     "data": {
      "text/plain": [
       "array([2., 8., 6., 9., 7., 5., 2., 7., 0., 2., 2., 9., 8., 4., 9., 5., 5.,\n",
       "       8., 3., 1., 9., 9., 0., 7., 6., 5., 9., 1., 0., 0., 3., 1., 9., 0.,\n",
       "       3., 2., 7., 3., 1., 8., 3., 2., 0., 5., 9., 5., 4., 0., 0., 5., 0.,\n",
       "       6., 3., 1., 2., 2., 9., 6., 4., 3., 4., 1., 8., 5., 6., 9., 2., 0.,\n",
       "       1., 8., 2., 4., 0., 7., 7., 6., 4., 4., 4., 6., 4., 9., 8., 4., 0.,\n",
       "       6., 8., 9., 2., 8., 0., 3., 3., 0., 4., 2., 2., 2., 7., 7., 1., 8.,\n",
       "       5., 3., 4., 7., 2., 9., 6., 3., 6., 0., 3., 0., 0., 4., 3., 7., 7.,\n",
       "       2., 8., 7., 5., 6., 5., 0., 2., 6., 8., 1., 7., 1., 5., 8., 6., 4.,\n",
       "       2., 6., 1., 4., 2., 1., 0., 9., 9., 6., 0., 4., 1., 1., 0., 1., 2.,\n",
       "       8., 3., 5., 7., 8., 8., 0., 1., 5., 1., 8., 3., 7., 9., 1., 1., 9.,\n",
       "       5., 4., 9., 3., 3., 7., 2., 8., 5., 4., 9., 1., 0., 6., 2., 6., 5.,\n",
       "       9., 8., 8., 4., 9., 5., 8., 8., 3., 5., 6., 9., 4., 3., 8., 0., 2.,\n",
       "       3., 6., 1., 0., 7., 0., 3., 8., 6., 2., 9., 2., 4., 1., 0., 5., 6.,\n",
       "       1., 3., 7., 4., 3., 0., 4., 7., 0., 9., 3., 8., 1., 1., 9., 1., 7.,\n",
       "       9., 6., 9., 9., 6., 6., 9., 7., 4., 7., 9., 5., 6., 9., 3., 2., 3.,\n",
       "       7., 3., 5., 0., 8., 1., 8., 3., 9., 2., 9., 2., 1., 4., 2., 7., 5.,\n",
       "       9., 1., 6., 3., 6., 6., 2., 3., 2., 8., 6., 2., 0., 4., 0., 7., 9.,\n",
       "       6., 1., 7., 4., 7., 8., 8., 9., 7., 9., 0., 9., 5., 4., 5., 3., 1.,\n",
       "       5., 1., 1., 3., 7., 1., 2., 2., 8., 2., 4., 3., 6., 6., 5., 6., 4.,\n",
       "       4., 4., 9., 8., 1., 5., 5., 8., 1., 5., 2., 7., 3., 1., 1., 3., 2.,\n",
       "       0., 2., 1., 3., 3., 0., 2., 7., 1., 6., 0., 4., 3., 3., 5., 3., 7.,\n",
       "       7., 8., 4., 1., 7., 3., 9., 7., 1., 9., 0., 2., 0., 7., 7., 8., 5.,\n",
       "       3., 3., 2., 1., 5., 2., 3., 6., 8., 5., 9., 5., 5., 5., 5., 4., 7.,\n",
       "       2., 8., 7., 2., 9., 0., 0., 1., 1., 4., 0., 9., 5., 9., 7., 8., 3.,\n",
       "       1., 6., 7., 4., 4., 1., 9., 3., 7., 1., 0., 0., 1., 1., 3., 2., 7.,\n",
       "       8., 4., 3., 4., 3., 6., 0., 0., 3., 1., 2., 7., 4., 9., 6., 9., 6.,\n",
       "       7., 4., 8., 7., 0., 0., 5., 1., 6., 4., 2., 7., 1., 9., 7., 9., 5.,\n",
       "       8., 4., 9., 8., 1., 0., 6., 7., 6., 0., 8., 2., 3., 0., 3., 5., 5.,\n",
       "       0., 6., 0., 3., 1., 9., 9., 1., 3., 6., 4., 2., 9., 1., 1., 1., 5.,\n",
       "       4., 4., 3., 8., 2., 0., 8., 5., 6., 8., 4., 7., 3., 3., 8., 9., 6.,\n",
       "       3., 4., 2., 9., 0., 4., 8., 6., 9., 7., 6., 6., 1., 0., 8., 7., 7.,\n",
       "       6., 7., 0., 9., 2., 8., 7., 4., 5., 5., 6., 2., 4., 9., 8., 5., 1.,\n",
       "       7., 1., 5., 1., 8., 0., 0., 1., 2., 6., 2., 7., 2., 7., 9., 2., 9.,\n",
       "       0., 6., 3., 1., 3., 0., 4., 2., 9., 6., 9., 3., 5., 5., 4., 5., 7.,\n",
       "       3., 1., 1., 9., 5., 3., 1., 3., 2., 0., 4., 8., 6., 9., 6., 1., 7.,\n",
       "       5., 9., 2., 4., 6., 3., 2., 8., 3., 2., 0., 1., 2., 8., 8., 2., 6.,\n",
       "       7., 8., 3., 3., 6., 9., 5., 5., 6., 7., 1., 6., 7., 6., 1., 6., 4.,\n",
       "       3., 8., 2., 6., 6., 4., 8., 3., 4., 1., 7., 0., 7., 2., 8., 4., 5.,\n",
       "       1., 6., 7., 2., 2., 1., 6., 7., 4., 4., 3., 7., 4., 2., 1., 6., 7.,\n",
       "       1., 0., 1., 7., 7., 5., 2., 5., 6., 0., 7., 4., 0., 1., 6., 4., 8.,\n",
       "       9., 3., 1., 8., 3., 6., 9., 0., 7., 5., 9., 0., 2., 2., 0., 3., 5.,\n",
       "       0., 6., 5.])"
      ]
     },
     "execution_count": 32,
     "metadata": {},
     "output_type": "execute_result"
    }
   ],
   "source": [
    "%time clf.predict(X_test)"
   ]
  },
  {
   "cell_type": "code",
   "execution_count": 33,
   "metadata": {},
   "outputs": [
    {
     "name": "stdout",
     "output_type": "stream",
     "text": [
      "Wall time: 2min 27s\n"
     ]
    },
    {
     "data": {
      "text/plain": [
       "array([2, 8, 6, 9, 7, 5, 2, 7, 0, 2, 2, 9, 8, 4, 9, 5, 5, 8, 3, 1, 9, 9,\n",
       "       0, 7, 6, 5, 9, 1, 0, 0, 3, 1, 9, 0, 3, 2, 7, 3, 1, 8, 3, 2, 0, 5,\n",
       "       9, 5, 4, 0, 0, 5, 0, 6, 3, 1, 2, 2, 9, 6, 4, 3, 4, 1, 8, 5, 6, 9,\n",
       "       2, 0, 1, 8, 2, 4, 0, 7, 7, 6, 4, 4, 4, 6, 4, 9, 8, 4, 0, 6, 8, 9,\n",
       "       2, 8, 0, 3, 3, 0, 4, 2, 2, 2, 7, 7, 1, 8, 5, 3, 4, 7, 2, 9, 6, 3,\n",
       "       6, 0, 3, 0, 0, 4, 3, 7, 7, 2, 8, 7, 5, 6, 5, 0, 2, 6, 8, 1, 7, 1,\n",
       "       5, 8, 6, 4, 2, 6, 1, 4, 2, 1, 0, 9, 9, 6, 0, 4, 1, 1, 0, 1, 2, 8,\n",
       "       3, 5, 7, 8, 8, 0, 1, 5, 1, 8, 3, 7, 9, 1, 1, 9, 5, 4, 9, 3, 3, 7,\n",
       "       2, 8, 5, 4, 9, 1, 0, 6, 2, 6, 5, 9, 8, 8, 4, 9, 5, 8, 8, 3, 5, 6,\n",
       "       9, 4, 3, 8, 0, 2, 3, 6, 1, 0, 7, 0, 3, 8, 6, 2, 9, 2, 4, 1, 0, 5,\n",
       "       6, 1, 3, 7, 4, 3, 0, 4, 7, 0, 9, 3, 8, 1, 1, 9, 1, 7, 9, 6, 9, 9,\n",
       "       6, 6, 9, 7, 4, 7, 9, 5, 6, 9, 3, 2, 3, 7, 3, 5, 0, 8, 1, 8, 3, 9,\n",
       "       2, 9, 2, 1, 4, 2, 7, 5, 9, 1, 6, 3, 6, 6, 2, 3, 2, 8, 6, 2, 0, 4,\n",
       "       0, 7, 9, 6, 1, 7, 4, 7, 8, 8, 9, 7, 9, 0, 9, 5, 4, 5, 3, 1, 5, 1,\n",
       "       1, 3, 7, 1, 2, 2, 8, 2, 4, 3, 6, 6, 5, 6, 4, 4, 4, 9, 8, 1, 5, 5,\n",
       "       8, 1, 5, 2, 7, 3, 1, 1, 3, 2, 0, 2, 1, 3, 3, 0, 2, 7, 1, 6, 0, 4,\n",
       "       3, 3, 5, 3, 7, 7, 8, 4, 1, 7, 3, 9, 7, 1, 9, 0, 2, 0, 7, 7, 8, 5,\n",
       "       3, 3, 2, 1, 5, 2, 3, 6, 8, 5, 9, 5, 5, 5, 5, 4, 7, 2, 8, 7, 2, 9,\n",
       "       0, 0, 1, 1, 4, 0, 9, 5, 9, 7, 8, 3, 1, 6, 7, 4, 4, 1, 9, 3, 7, 1,\n",
       "       0, 0, 1, 1, 3, 2, 7, 8, 4, 3, 4, 3, 6, 0, 0, 3, 1, 2, 7, 4, 9, 6,\n",
       "       9, 6, 7, 4, 8, 7, 0, 0, 5, 1, 6, 4, 2, 7, 1, 9, 7, 9, 5, 8, 4, 9,\n",
       "       8, 1, 0, 6, 7, 6, 0, 8, 2, 3, 0, 3, 5, 5, 0, 6, 0, 3, 1, 9, 9, 1,\n",
       "       3, 6, 4, 2, 9, 1, 1, 1, 5, 4, 4, 3, 8, 2, 0, 8, 5, 6, 8, 4, 7, 3,\n",
       "       3, 8, 9, 6, 3, 4, 2, 9, 0, 4, 8, 6, 9, 7, 6, 6, 1, 0, 8, 7, 7, 6,\n",
       "       7, 0, 9, 2, 8, 7, 4, 5, 5, 6, 2, 4, 9, 8, 5, 1, 7, 1, 5, 1, 8, 0,\n",
       "       0, 1, 2, 6, 2, 7, 2, 7, 9, 2, 9, 0, 6, 3, 1, 3, 0, 4, 2, 9, 6, 9,\n",
       "       3, 5, 5, 4, 5, 7, 3, 1, 1, 9, 5, 3, 1, 3, 2, 0, 4, 8, 6, 9, 6, 1,\n",
       "       7, 5, 9, 2, 4, 6, 3, 2, 8, 3, 2, 0, 1, 2, 8, 8, 2, 6, 7, 8, 3, 3,\n",
       "       6, 9, 5, 5, 6, 7, 1, 6, 7, 6, 1, 6, 4, 3, 8, 2, 6, 6, 4, 8, 3, 4,\n",
       "       1, 7, 0, 7, 2, 8, 4, 5, 1, 6, 7, 2, 2, 1, 6, 7, 4, 4, 3, 7, 4, 2,\n",
       "       1, 6, 7, 1, 0, 1, 7, 7, 5, 2, 5, 6, 0, 7, 4, 0, 1, 6, 4, 8, 9, 3,\n",
       "       1, 8, 3, 6, 9, 0, 7, 5, 9, 0, 2, 2, 0, 3, 5, 0, 6, 5])"
      ]
     },
     "execution_count": 33,
     "metadata": {},
     "output_type": "execute_result"
    }
   ],
   "source": [
    "%time my_clf.predict(X_test)"
   ]
  },
  {
   "cell_type": "code",
   "execution_count": 34,
   "metadata": {},
   "outputs": [
    {
     "name": "stdout",
     "output_type": "stream",
     "text": [
      "Wall time: 3min 2s\n"
     ]
    },
    {
     "data": {
      "text/plain": [
       "array([[0., 0., 1., ..., 0., 0., 0.],\n",
       "       [0., 0., 0., ..., 0., 1., 0.],\n",
       "       [0., 0., 0., ..., 0., 0., 0.],\n",
       "       ...,\n",
       "       [1., 0., 0., ..., 0., 0., 0.],\n",
       "       [0., 0., 0., ..., 0., 0., 0.],\n",
       "       [0., 0., 0., ..., 0., 0., 0.]])"
      ]
     },
     "execution_count": 34,
     "metadata": {},
     "output_type": "execute_result"
    }
   ],
   "source": [
    "%time clf.predict_proba(X_test)"
   ]
  },
  {
   "cell_type": "code",
   "execution_count": 35,
   "metadata": {},
   "outputs": [
    {
     "name": "stdout",
     "output_type": "stream",
     "text": [
      "Wall time: 2min 32s\n"
     ]
    },
    {
     "data": {
      "text/plain": [
       "array([[0., 0., 1., ..., 0., 0., 0.],\n",
       "       [0., 0., 0., ..., 0., 1., 0.],\n",
       "       [0., 0., 0., ..., 0., 0., 0.],\n",
       "       ...,\n",
       "       [1., 0., 0., ..., 0., 0., 0.],\n",
       "       [0., 0., 0., ..., 0., 0., 0.],\n",
       "       [0., 0., 0., ..., 0., 0., 0.]])"
      ]
     },
     "execution_count": 35,
     "metadata": {},
     "output_type": "execute_result"
    }
   ],
   "source": [
    "%time my_clf.predict_proba(X_test)"
   ]
  },
  {
   "cell_type": "code",
   "execution_count": 36,
   "metadata": {},
   "outputs": [
    {
     "data": {
      "text/plain": [
       "0.96"
      ]
     },
     "execution_count": 36,
     "metadata": {},
     "output_type": "execute_result"
    }
   ],
   "source": [
    "clf.score(X_test, y_test)"
   ]
  },
  {
   "cell_type": "code",
   "execution_count": 37,
   "metadata": {},
   "outputs": [
    {
     "data": {
      "text/plain": [
       "0.96"
      ]
     },
     "execution_count": 37,
     "metadata": {},
     "output_type": "execute_result"
    }
   ],
   "source": [
    "my_clf.score(X_test, y_test)"
   ]
  },
  {
   "cell_type": "markdown",
   "metadata": {},
   "source": [
    "Задание 5"
   ]
  },
  {
   "cell_type": "code",
   "execution_count": 38,
   "metadata": {},
   "outputs": [
    {
     "data": {
      "text/plain": [
       "'\\nКласс Mixin устанавливает модель обучения,\\nиспользующую данные \"X\" в качестве тренировочного набора,\\nа \"y\" - в качестве целевых значений  \\n'"
      ]
     },
     "execution_count": 38,
     "metadata": {},
     "output_type": "execute_result"
    }
   ],
   "source": [
    "# seaborn \n",
    "'''\n",
    "Библиотека базируется на Matplotlib, оптимизирована для визуализации статистических моделей \n",
    "'''\n",
    "# matplotlib\n",
    "'''\n",
    "Низкоуровневая библиотека для визуализации 2d графики\n",
    "'''\n",
    "# train_test_split\n",
    "'''\n",
    "Библиотека для случайного разделения данных на тренировочный и тестовый наборы\n",
    "'''\n",
    "# Pipelin%load_ext e (from sklearn.pipeline import Pipeline)\n",
    "'''\n",
    "Библиотека для последовательного преобразования исходного набора данных до окончательной оценки\n",
    "'''\n",
    "# StandardScaler (from sklearn.preprocessing import StandardScaler)\n",
    "'''\n",
    "Библиотека преобазует данных так, чтобы среднее значение было 0, а стандартное отклонение = 1\n",
    "'''\n",
    "# ClassifierMixin\n",
    "'''\n",
    "Класс является общим для всех классификаторов sklearn, содержит метод для получения среднего значения точности,\n",
    "'''\n",
    "# NeighborsBase\n",
    "'''\n",
    "Базовый класс для оценки методом ближайших соседей, содержит fit() и параметры весов\n",
    "'''\n",
    "# KNeighborsMixin\n",
    "'''\n",
    "Класс Mixin поиска k - ближайших соседей\n",
    "'''\n",
    "# SupervisedIntegerMixin\n",
    "'''\n",
    "Класс Mixin устанавливает модель обучения,\n",
    "использующую данные \"X\" в качестве тренировочного набора,\n",
    "а \"y\" - в качестве целевых значений  \n",
    "'''"
   ]
  }
 ],
 "metadata": {
  "kernelspec": {
   "display_name": "Python 3",
   "language": "python",
   "name": "python3"
  },
  "language_info": {
   "codemirror_mode": {
    "name": "ipython",
    "version": 3
   },
   "file_extension": ".py",
   "mimetype": "text/x-python",
   "name": "python",
   "nbconvert_exporter": "python",
   "pygments_lexer": "ipython3",
   "version": "3.6.5"
  }
 },
 "nbformat": 4,
 "nbformat_minor": 2
}
