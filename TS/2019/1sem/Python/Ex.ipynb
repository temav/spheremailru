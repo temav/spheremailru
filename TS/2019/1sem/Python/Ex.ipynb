{
 "cells": [
  {
   "cell_type": "markdown",
   "metadata": {},
   "source": [
    "## Задание 1\n",
    "\n",
    "Дан список неотрицательных чисел. Сформируйте из них наибольшее возможное число. У получившегося числа не должно быть ведущих незначимых нулей.\n",
    "\n",
    "*Подсказка*: прочитать о том, как можно сортировать коллекции с использованием компаратора можно [тут](https://docs.python.org/3/howto/sorting.html#the-old-way-using-the-cmp-parameter)."
   ]
  },
  {
   "cell_type": "code",
   "execution_count": 1,
   "metadata": {},
   "outputs": [],
   "source": [
    "from functools import cmp_to_key\n",
    "import itertools\n",
    "def make_biggest_number(a):\n",
    "    maxx = 0\n",
    "    strr = list(itertools.permutations(a))\n",
    "    for i in strr:\n",
    "        k = ''\n",
    "        for j in i:\n",
    "            k+=str(j)\n",
    "        if(maxx < int(k)):\n",
    "            maxx = int(k)\n",
    "    return maxx"
   ]
  },
  {
   "cell_type": "code",
   "execution_count": 50,
   "metadata": {},
   "outputs": [
    {
     "data": {
      "text/plain": [
       "9534330"
      ]
     },
     "execution_count": 50,
     "metadata": {},
     "output_type": "execute_result"
    }
   ],
   "source": [
    "make_biggest_number([3, 30, 34, 5, 9])"
   ]
  },
  {
   "cell_type": "code",
   "execution_count": 51,
   "metadata": {},
   "outputs": [],
   "source": [
    "assert make_biggest_number([3, 30, 34, 5, 9]) == 9534330"
   ]
  },
  {
   "cell_type": "code",
   "execution_count": 52,
   "metadata": {},
   "outputs": [],
   "source": [
    "assert make_biggest_number([0, 0, 0]) == 0"
   ]
  },
  {
   "cell_type": "code",
   "execution_count": 53,
   "metadata": {},
   "outputs": [],
   "source": [
    "assert make_biggest_number([8, 89]) == 898"
   ]
  },
  {
   "cell_type": "code",
   "execution_count": 19,
   "metadata": {},
   "outputs": [],
   "source": [
    "assert make_biggest_number([27, 271]) == 27271"
   ]
  },
  {
   "cell_type": "code",
   "execution_count": 20,
   "metadata": {},
   "outputs": [],
   "source": [
    "assert make_biggest_number([12, 121]) == 12121"
   ]
  }
 ],
 "metadata": {
  "kernelspec": {
   "display_name": "Python 3",
   "language": "python",
   "name": "python3"
  },
  "language_info": {
   "codemirror_mode": {
    "name": "ipython",
    "version": 3
   },
   "file_extension": ".py",
   "mimetype": "text/x-python",
   "name": "python",
   "nbconvert_exporter": "python",
   "pygments_lexer": "ipython3",
   "version": "3.6.5"
  }
 },
 "nbformat": 4,
 "nbformat_minor": 2
}
